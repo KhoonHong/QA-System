{
 "cells": [
  {
   "cell_type": "code",
   "execution_count": 1,
   "metadata": {},
   "outputs": [],
   "source": [
    "from datasets import load_dataset, get_dataset_config_names\n",
    "from transformers import AutoTokenizer, OPTForQuestionAnswering, GPTJForQuestionAnswering, XLNetForQuestionAnsweringSimple, GPT2Tokenizer, pipeline, AutoModelForQuestionAnswering\n",
    "import torch\n",
    "import json\n",
    "import matplotlib.pyplot as plt\n",
    "import numpy as np\n",
    "import pandas as pd\n",
    "from datasets import Dataset\n",
    "from haystack.document_stores import ElasticsearchDocumentStore\n",
    "from haystack.nodes import BM25Retriever, EmbeddingRetriever, PromptNode, PromptTemplate, DensePassageRetriever,  FARMReader\n",
    "from haystack.pipelines import GenerativeQAPipeline, Pipeline,  DocumentSearchPipeline, ExtractiveQAPipeline\n",
    "from haystack import Label, Answer, Document\n",
    "from haystack.modeling.evaluation.squad import compute_f1, compute_exact"
   ]
  },
  {
   "cell_type": "code",
   "execution_count": 2,
   "metadata": {},
   "outputs": [
    {
     "data": {
      "text/plain": [
       "['books', 'electronics', 'grocery', 'movies', 'restaurants', 'tripadvisor']"
      ]
     },
     "execution_count": 2,
     "metadata": {},
     "output_type": "execute_result"
    }
   ],
   "source": [
    "domains = get_dataset_config_names(\"subjqa\")\n",
    "domains"
   ]
  },
  {
   "cell_type": "code",
   "execution_count": 3,
   "metadata": {},
   "outputs": [
    {
     "name": "stderr",
     "output_type": "stream",
     "text": [
      "Found cached dataset subjqa (C:/Users/EzLaser/.cache/huggingface/datasets/subjqa/tripadvisor/1.1.0/2c12e496c4c675ab4a57ffb5d3f538f2e7b89793956e50da37126393ce23b6c6)\n"
     ]
    },
    {
     "data": {
      "application/vnd.jupyter.widget-view+json": {
       "model_id": "d8714b1b543e48ecac074e19434b5d7c",
       "version_major": 2,
       "version_minor": 0
      },
      "text/plain": [
       "  0%|          | 0/3 [00:00<?, ?it/s]"
      ]
     },
     "metadata": {},
     "output_type": "display_data"
    }
   ],
   "source": [
    "subjqa = load_dataset(\"subjqa\", \"tripadvisor\")"
   ]
  },
  {
   "cell_type": "code",
   "execution_count": 4,
   "metadata": {},
   "outputs": [
    {
     "data": {
      "text/plain": [
       "DatasetDict({\n",
       "    train: Dataset({\n",
       "        features: ['domain', 'nn_mod', 'nn_asp', 'query_mod', 'query_asp', 'q_reviews_id', 'question_subj_level', 'ques_subj_score', 'is_ques_subjective', 'review_id', 'id', 'title', 'context', 'question', 'answers'],\n",
       "        num_rows: 1165\n",
       "    })\n",
       "    test: Dataset({\n",
       "        features: ['domain', 'nn_mod', 'nn_asp', 'query_mod', 'query_asp', 'q_reviews_id', 'question_subj_level', 'ques_subj_score', 'is_ques_subjective', 'review_id', 'id', 'title', 'context', 'question', 'answers'],\n",
       "        num_rows: 512\n",
       "    })\n",
       "    validation: Dataset({\n",
       "        features: ['domain', 'nn_mod', 'nn_asp', 'query_mod', 'query_asp', 'q_reviews_id', 'question_subj_level', 'ques_subj_score', 'is_ques_subjective', 'review_id', 'id', 'title', 'context', 'question', 'answers'],\n",
       "        num_rows: 230\n",
       "    })\n",
       "})"
      ]
     },
     "execution_count": 4,
     "metadata": {},
     "output_type": "execute_result"
    }
   ],
   "source": [
    "subjqa"
   ]
  },
  {
   "cell_type": "code",
   "execution_count": 5,
   "metadata": {},
   "outputs": [
    {
     "data": {
      "text/plain": [
       "{'domain': 'tripadvisor',\n",
       " 'nn_mod': 'awesome',\n",
       " 'nn_asp': 'place',\n",
       " 'query_mod': 'amazing',\n",
       " 'query_asp': 'place',\n",
       " 'q_reviews_id': '8ff9fa9cd9d246eeb73b26dbc9aa3b2e',\n",
       " 'question_subj_level': 5,\n",
       " 'ques_subj_score': 1.0,\n",
       " 'is_ques_subjective': True,\n",
       " 'review_id': 'tripadvisor_review_18201',\n",
       " 'id': '074ee3857fe4a252088ae43606bd4cb9',\n",
       " 'title': 'usa_san francisco_abigail_hotel',\n",
       " 'context': \"After reading the reviews I was expecting the worst... the hotel is comfortable, large rooms and friendly staff. Free breakfast was included which is a lot more than what we got in other much more expensive hotels we stayed in in California. The area which the hotel is in is indeed ghetto, drug dealers and users but they keep themselves to themselves. A bus or taxi is advisable to the centre as it is a distance to the main attractions. It is a budget hotel and doesn't claim to be anything else, worth the money and if you are travelling it is ideal. San Fran is really awesome ( least place we were looking forward to whilst travelling California) however it proved to be amazing. We cycled golden gate bridge, went to Alcatraz, countless bars and restaurants and lombard road is neat too! If you are staying for a short time then the Abigail is fine and a normal breakfast of toast and juice is what most people desire for breakfast not stacks of pancakes and fried food. Well done Abigail for getting this right! Oh and there is free internet in the lobby.\",\n",
       " 'question': 'How beautiful is the place?',\n",
       " 'answers': {'text': ['San Fran is really awesome'],\n",
       "  'answer_start': [555],\n",
       "  'answer_subj_level': [5],\n",
       "  'ans_subj_score': [1.0],\n",
       "  'is_ans_subjective': [True]}}"
      ]
     },
     "execution_count": 5,
     "metadata": {},
     "output_type": "execute_result"
    }
   ],
   "source": [
    "subjqa[\"train\"][0]"
   ]
  },
  {
   "cell_type": "code",
   "execution_count": 6,
   "metadata": {},
   "outputs": [
    {
     "name": "stdout",
     "output_type": "stream",
     "text": [
      "Number of questions in train: 1165\n",
      "Number of questions in test: 512\n",
      "Number of questions in validation: 230\n"
     ]
    }
   ],
   "source": [
    "dfs = {split: dset.to_pandas() for split, dset in subjqa.flatten().items()}\n",
    "\n",
    "for split, df in dfs.items():\n",
    "    print(f\"Number of questions in {split}: {df['id'].nunique()}\")\n",
    "     "
   ]
  },
  {
   "cell_type": "code",
   "execution_count": 7,
   "metadata": {},
   "outputs": [
    {
     "data": {
      "text/plain": [
       "686"
      ]
     },
     "execution_count": 7,
     "metadata": {},
     "output_type": "execute_result"
    }
   ],
   "source": [
    "for index, row in dfs[\"train\"].iterrows():\n",
    "    if row[\"answers.text\"].size == 0:\n",
    "        dfs[\"train\"].drop(axis=0, index=index, inplace=True)\n",
    "\n",
    "len(dfs[\"train\"])"
   ]
  },
  {
   "cell_type": "code",
   "execution_count": 8,
   "metadata": {},
   "outputs": [
    {
     "data": {
      "text/html": [
       "<div>\n",
       "<style scoped>\n",
       "    .dataframe tbody tr th:only-of-type {\n",
       "        vertical-align: middle;\n",
       "    }\n",
       "\n",
       "    .dataframe tbody tr th {\n",
       "        vertical-align: top;\n",
       "    }\n",
       "\n",
       "    .dataframe thead th {\n",
       "        text-align: right;\n",
       "    }\n",
       "</style>\n",
       "<table border=\"1\" class=\"dataframe\">\n",
       "  <thead>\n",
       "    <tr style=\"text-align: right;\">\n",
       "      <th></th>\n",
       "      <th>domain</th>\n",
       "      <th>nn_mod</th>\n",
       "      <th>nn_asp</th>\n",
       "      <th>query_mod</th>\n",
       "      <th>query_asp</th>\n",
       "      <th>q_reviews_id</th>\n",
       "      <th>question_subj_level</th>\n",
       "      <th>ques_subj_score</th>\n",
       "      <th>is_ques_subjective</th>\n",
       "      <th>review_id</th>\n",
       "      <th>id</th>\n",
       "      <th>title</th>\n",
       "      <th>context</th>\n",
       "      <th>question</th>\n",
       "      <th>answers.text</th>\n",
       "      <th>answers.answer_start</th>\n",
       "      <th>answers.answer_subj_level</th>\n",
       "      <th>answers.ans_subj_score</th>\n",
       "      <th>answers.is_ans_subjective</th>\n",
       "    </tr>\n",
       "  </thead>\n",
       "  <tbody>\n",
       "    <tr>\n",
       "      <th>0</th>\n",
       "      <td>tripadvisor</td>\n",
       "      <td>awesome</td>\n",
       "      <td>place</td>\n",
       "      <td>amazing</td>\n",
       "      <td>place</td>\n",
       "      <td>8ff9fa9cd9d246eeb73b26dbc9aa3b2e</td>\n",
       "      <td>5</td>\n",
       "      <td>1.00</td>\n",
       "      <td>True</td>\n",
       "      <td>tripadvisor_review_18201</td>\n",
       "      <td>074ee3857fe4a252088ae43606bd4cb9</td>\n",
       "      <td>usa_san francisco_abigail_hotel</td>\n",
       "      <td>After reading the reviews I was expecting the worst... the hotel is comforta...</td>\n",
       "      <td>How beautiful is the place?</td>\n",
       "      <td>[San Fran is really awesome]</td>\n",
       "      <td>[555]</td>\n",
       "      <td>[5]</td>\n",
       "      <td>[1.0]</td>\n",
       "      <td>[True]</td>\n",
       "    </tr>\n",
       "    <tr>\n",
       "      <th>3</th>\n",
       "      <td>tripadvisor</td>\n",
       "      <td>available</td>\n",
       "      <td>coffee</td>\n",
       "      <td>fresh</td>\n",
       "      <td>coffee</td>\n",
       "      <td>4aebc2ebb91a9d4d42e51aaddad1ebb0</td>\n",
       "      <td>1</td>\n",
       "      <td>0.00</td>\n",
       "      <td>False</td>\n",
       "      <td>tripadvisor_review_10984</td>\n",
       "      <td>f2a3151294ac189174d4efcf86ee7824</td>\n",
       "      <td>usa_san francisco_andrews_hotel</td>\n",
       "      <td>My husband and I recently had a very pleasant three night (Wed-Thurs-Fri) st...</td>\n",
       "      <td>How is coffee made?</td>\n",
       "      <td>[daily newspapers and coffee and tea available all day]</td>\n",
       "      <td>[250]</td>\n",
       "      <td>[1]</td>\n",
       "      <td>[0.2]</td>\n",
       "      <td>[False]</td>\n",
       "    </tr>\n",
       "    <tr>\n",
       "      <th>6</th>\n",
       "      <td>tripadvisor</td>\n",
       "      <td>small</td>\n",
       "      <td>desk</td>\n",
       "      <td>small</td>\n",
       "      <td>sink</td>\n",
       "      <td>4a71dd56e7ae949f499e3d55fa151f1d</td>\n",
       "      <td>5</td>\n",
       "      <td>0.65</td>\n",
       "      <td>True</td>\n",
       "      <td>tripadvisor_review_10996</td>\n",
       "      <td>beb3759a3717b1c9c81a3c35db198b3e</td>\n",
       "      <td>usa_san francisco_andrews_hotel</td>\n",
       "      <td>My wife and I visited the Andrews Hotel for three nights as an anniversary g...</td>\n",
       "      <td>Is the sink normal size?</td>\n",
       "      <td>[although we had to swap space in front of the mirror/sink]</td>\n",
       "      <td>[1220]</td>\n",
       "      <td>[5]</td>\n",
       "      <td>[0.0]</td>\n",
       "      <td>[False]</td>\n",
       "    </tr>\n",
       "    <tr>\n",
       "      <th>8</th>\n",
       "      <td>tripadvisor</td>\n",
       "      <td>great</td>\n",
       "      <td>wine tasting</td>\n",
       "      <td>great</td>\n",
       "      <td>wine hour</td>\n",
       "      <td>da46d7e86648c939f72089718c43119a</td>\n",
       "      <td>5</td>\n",
       "      <td>0.00</td>\n",
       "      <td>False</td>\n",
       "      <td>tripadvisor_review_1380</td>\n",
       "      <td>27f1bb97cfae6fc7efc73e031c2c490d</td>\n",
       "      <td>usa_san francisco_argonaut_hotel_a_kimpton_hotel</td>\n",
       "      <td>This was a fantastic hotel. The location is perfect. The rooms are lovely, w...</td>\n",
       "      <td>How about wine hour?</td>\n",
       "      <td>[The wine tasting each evening was a great end, The wine tasting each evenin...</td>\n",
       "      <td>[236, 236]</td>\n",
       "      <td>[5, 5]</td>\n",
       "      <td>[0.75, 0.75]</td>\n",
       "      <td>[True, True]</td>\n",
       "    </tr>\n",
       "    <tr>\n",
       "      <th>9</th>\n",
       "      <td>tripadvisor</td>\n",
       "      <td>walking distance</td>\n",
       "      <td>attraction</td>\n",
       "      <td>close to</td>\n",
       "      <td>tourist attraction</td>\n",
       "      <td>6383f0ee5eb0fb64250db16fcd908513</td>\n",
       "      <td>5</td>\n",
       "      <td>0.00</td>\n",
       "      <td>False</td>\n",
       "      <td>tripadvisor_review_1468</td>\n",
       "      <td>ee38421ed964e2e89a618d2ab6e26513</td>\n",
       "      <td>usa_san francisco_argonaut_hotel_a_kimpton_hotel</td>\n",
       "      <td>Overall, this is the nicest hotel I have ever stayed in. The hotel was extre...</td>\n",
       "      <td>What about the tourist attraction ?</td>\n",
       "      <td>[being close to attractions]</td>\n",
       "      <td>[409]</td>\n",
       "      <td>[5]</td>\n",
       "      <td>[0.0]</td>\n",
       "      <td>[False]</td>\n",
       "    </tr>\n",
       "  </tbody>\n",
       "</table>\n",
       "</div>"
      ],
      "text/plain": [
       "        domain            nn_mod        nn_asp query_mod           query_asp   \n",
       "0  tripadvisor           awesome         place   amazing               place  \\\n",
       "3  tripadvisor         available        coffee     fresh              coffee   \n",
       "6  tripadvisor             small          desk     small                sink   \n",
       "8  tripadvisor             great  wine tasting     great           wine hour   \n",
       "9  tripadvisor  walking distance    attraction  close to  tourist attraction   \n",
       "\n",
       "                       q_reviews_id  question_subj_level  ques_subj_score   \n",
       "0  8ff9fa9cd9d246eeb73b26dbc9aa3b2e                    5             1.00  \\\n",
       "3  4aebc2ebb91a9d4d42e51aaddad1ebb0                    1             0.00   \n",
       "6  4a71dd56e7ae949f499e3d55fa151f1d                    5             0.65   \n",
       "8  da46d7e86648c939f72089718c43119a                    5             0.00   \n",
       "9  6383f0ee5eb0fb64250db16fcd908513                    5             0.00   \n",
       "\n",
       "   is_ques_subjective                 review_id   \n",
       "0                True  tripadvisor_review_18201  \\\n",
       "3               False  tripadvisor_review_10984   \n",
       "6                True  tripadvisor_review_10996   \n",
       "8               False   tripadvisor_review_1380   \n",
       "9               False   tripadvisor_review_1468   \n",
       "\n",
       "                                 id   \n",
       "0  074ee3857fe4a252088ae43606bd4cb9  \\\n",
       "3  f2a3151294ac189174d4efcf86ee7824   \n",
       "6  beb3759a3717b1c9c81a3c35db198b3e   \n",
       "8  27f1bb97cfae6fc7efc73e031c2c490d   \n",
       "9  ee38421ed964e2e89a618d2ab6e26513   \n",
       "\n",
       "                                              title   \n",
       "0                   usa_san francisco_abigail_hotel  \\\n",
       "3                   usa_san francisco_andrews_hotel   \n",
       "6                   usa_san francisco_andrews_hotel   \n",
       "8  usa_san francisco_argonaut_hotel_a_kimpton_hotel   \n",
       "9  usa_san francisco_argonaut_hotel_a_kimpton_hotel   \n",
       "\n",
       "                                                                           context   \n",
       "0  After reading the reviews I was expecting the worst... the hotel is comforta...  \\\n",
       "3  My husband and I recently had a very pleasant three night (Wed-Thurs-Fri) st...   \n",
       "6  My wife and I visited the Andrews Hotel for three nights as an anniversary g...   \n",
       "8  This was a fantastic hotel. The location is perfect. The rooms are lovely, w...   \n",
       "9  Overall, this is the nicest hotel I have ever stayed in. The hotel was extre...   \n",
       "\n",
       "                              question   \n",
       "0          How beautiful is the place?  \\\n",
       "3                  How is coffee made?   \n",
       "6             Is the sink normal size?   \n",
       "8                 How about wine hour?   \n",
       "9  What about the tourist attraction ?   \n",
       "\n",
       "                                                                      answers.text   \n",
       "0                                                     [San Fran is really awesome]  \\\n",
       "3                          [daily newspapers and coffee and tea available all day]   \n",
       "6                      [although we had to swap space in front of the mirror/sink]   \n",
       "8  [The wine tasting each evening was a great end, The wine tasting each evenin...   \n",
       "9                                                     [being close to attractions]   \n",
       "\n",
       "  answers.answer_start answers.answer_subj_level answers.ans_subj_score   \n",
       "0                [555]                       [5]                  [1.0]  \\\n",
       "3                [250]                       [1]                  [0.2]   \n",
       "6               [1220]                       [5]                  [0.0]   \n",
       "8           [236, 236]                    [5, 5]           [0.75, 0.75]   \n",
       "9                [409]                       [5]                  [0.0]   \n",
       "\n",
       "  answers.is_ans_subjective  \n",
       "0                    [True]  \n",
       "3                   [False]  \n",
       "6                   [False]  \n",
       "8              [True, True]  \n",
       "9                   [False]  "
      ]
     },
     "execution_count": 8,
     "metadata": {},
     "output_type": "execute_result"
    }
   ],
   "source": [
    "dfs[\"train\"].head(5)"
   ]
  },
  {
   "cell_type": "code",
   "execution_count": 9,
   "metadata": {},
   "outputs": [
    {
     "data": {
      "text/html": [
       "<div>\n",
       "<style scoped>\n",
       "    .dataframe tbody tr th:only-of-type {\n",
       "        vertical-align: middle;\n",
       "    }\n",
       "\n",
       "    .dataframe tbody tr th {\n",
       "        vertical-align: top;\n",
       "    }\n",
       "\n",
       "    .dataframe thead th {\n",
       "        text-align: right;\n",
       "    }\n",
       "</style>\n",
       "<table border=\"1\" class=\"dataframe\">\n",
       "  <thead>\n",
       "    <tr style=\"text-align: right;\">\n",
       "      <th></th>\n",
       "      <th>title</th>\n",
       "      <th>question</th>\n",
       "      <th>answers.text</th>\n",
       "      <th>answers.answer_start</th>\n",
       "      <th>context</th>\n",
       "    </tr>\n",
       "  </thead>\n",
       "  <tbody>\n",
       "    <tr>\n",
       "      <th>174</th>\n",
       "      <td>usa_san francisco_days_inn_lombard_street</td>\n",
       "      <td>How is the service?</td>\n",
       "      <td>[Horrible service, Horrible service]</td>\n",
       "      <td>[0, 0]</td>\n",
       "      <td>Horrible service, the attendants were rude and unprofessional. When we arriv...</td>\n",
       "    </tr>\n",
       "    <tr>\n",
       "      <th>357</th>\n",
       "      <td>usa_san francisco_hotel_adagio</td>\n",
       "      <td>How is the coffee?</td>\n",
       "      <td>[lovely free coffee, lovely free coffee]</td>\n",
       "      <td>[127, 127]</td>\n",
       "      <td>our first time to San Francisco - the Adagio was the perfect central locatio...</td>\n",
       "    </tr>\n",
       "  </tbody>\n",
       "</table>\n",
       "</div>"
      ],
      "text/plain": [
       "                                         title             question   \n",
       "174  usa_san francisco_days_inn_lombard_street  How is the service?  \\\n",
       "357             usa_san francisco_hotel_adagio   How is the coffee?   \n",
       "\n",
       "                                 answers.text answers.answer_start   \n",
       "174      [Horrible service, Horrible service]               [0, 0]  \\\n",
       "357  [lovely free coffee, lovely free coffee]           [127, 127]   \n",
       "\n",
       "                                                                             context  \n",
       "174  Horrible service, the attendants were rude and unprofessional. When we arriv...  \n",
       "357  our first time to San Francisco - the Adagio was the perfect central locatio...  "
      ]
     },
     "execution_count": 9,
     "metadata": {},
     "output_type": "execute_result"
    }
   ],
   "source": [
    "qa_cols = [\"title\", \"question\", \"answers.text\", \n",
    "           \"answers.answer_start\", \"context\"]\n",
    "sample_df = dfs[\"train\"][qa_cols].sample(2, random_state=2)\n",
    "sample_df"
   ]
  },
  {
   "cell_type": "code",
   "execution_count": 10,
   "metadata": {},
   "outputs": [
    {
     "data": {
      "text/plain": [
       "'lovely free coffee'"
      ]
     },
     "execution_count": 10,
     "metadata": {},
     "output_type": "execute_result"
    }
   ],
   "source": [
    "start_idx = sample_df[\"answers.answer_start\"].iloc[1][0]\n",
    "end_idx = start_idx + len(sample_df[\"answers.text\"].iloc[1][0])\n",
    "sample_df[\"context\"].iloc[1][start_idx:end_idx]"
   ]
  },
  {
   "cell_type": "code",
   "execution_count": 11,
   "metadata": {},
   "outputs": [
    {
     "data": {
      "image/png": "[encoded data removed]",
      "text/plain": [
       "<Figure size 640x480 with 1 Axes>"
      ]
     },
     "metadata": {},
     "output_type": "display_data"
    },
    {
     "name": "stdout",
     "output_type": "stream",
     "text": [
      "{'What': 93, 'How': 450, 'Is': 67, 'Does': 22, 'Do': 35, 'Was': 9, 'Where': 17, 'Why': 7}\n"
     ]
    }
   ],
   "source": [
    "counts = {}\n",
    "question_types = [\"What\", \"How\", \"Is\", \"Does\", \"Do\", \"Was\", \"Where\", \"Why\"]\n",
    "\n",
    "for q in question_types:\n",
    "    counts[q] = dfs[\"train\"][\"question\"].str.startswith(q).value_counts()[True]\n",
    "\n",
    "pd.Series(counts).sort_values().plot.barh()\n",
    "plt.title(\"Frequency of Question Types\")\n",
    "plt.show()\n",
    "\n",
    "print(counts)"
   ]
  },
  {
   "cell_type": "code",
   "execution_count": 12,
   "metadata": {},
   "outputs": [
    {
     "name": "stdout",
     "output_type": "stream",
     "text": [
      "How was the bathroom in the room?\n",
      "How is the quality of the service?\n",
      "How is the quality of service?\n",
      "What is the quality of the king bed?\n",
      "What do you think about this place ?\n",
      "What is the quality of the hotel?\n",
      "Is it an excellent stay?\n",
      "Is this bar excellent?\n",
      "Is this neighborhood quiet?\n"
     ]
    }
   ],
   "source": [
    "for question_type in [\"How\", \"What\", \"Is\"]:\n",
    "    for question in (\n",
    "        dfs[\"train\"][dfs[\"train\"].question.str.startswith(question_type)]\n",
    "        .sample(n=3, random_state=42)['question']):\n",
    "        print(question)"
   ]
  },
  {
   "attachments": {},
   "cell_type": "markdown",
   "metadata": {},
   "source": [
    "# Store the dataset into ElasticsearchDocumentStore as a document"
   ]
  },
  {
   "attachments": {},
   "cell_type": "markdown",
   "metadata": {},
   "source": [
    "### Initializing a document store"
   ]
  },
  {
   "cell_type": "code",
   "execution_count": 13,
   "metadata": {},
   "outputs": [],
   "source": [
    "# Return the document embedding for later use with dense retriever \n",
    "document_store = ElasticsearchDocumentStore(similarity=\"dot_product\",embedding_dim=768)"
   ]
  },
  {
   "cell_type": "code",
   "execution_count": 14,
   "metadata": {},
   "outputs": [],
   "source": [
    "#hide\n",
    "# It's a good idea to flush Elasticsearch with each notebook restart\n",
    "if len(document_store.get_all_documents()) or len(document_store.get_all_labels()) > 0:\n",
    "    document_store.delete_documents(\"document\")\n",
    "    document_store.delete_documents(\"label\")"
   ]
  },
  {
   "cell_type": "code",
   "execution_count": 15,
   "metadata": {},
   "outputs": [
    {
     "name": "stdout",
     "output_type": "stream",
     "text": [
      "Loaded 1172 documents\n"
     ]
    }
   ],
   "source": [
    "for split, df in dfs.items():\n",
    "    # Exclude duplicate reviews\n",
    "    docs = [{\"content\": row[\"context\"], \n",
    "             \"meta\":{\"item_id\": row[\"title\"], \"question_id\": row[\"id\"], \n",
    "                     \"split\": split}} \n",
    "        for _,row in df.drop_duplicates(subset=\"context\").iterrows()]\n",
    "    document_store.write_documents(documents=docs, index=\"document\")\n",
    "    \n",
    "print(f\"Loaded {document_store.get_document_count()} documents\")"
   ]
  },
  {
   "attachments": {},
   "cell_type": "markdown",
   "metadata": {},
   "source": [
    "## Initializing a retriever"
   ]
  },
  {
   "attachments": {},
   "cell_type": "markdown",
   "metadata": {},
   "source": [
    "#### BM25 Retriever -> a variant of tf-idf"
   ]
  },
  {
   "cell_type": "code",
   "execution_count": 16,
   "metadata": {},
   "outputs": [],
   "source": [
    "BM25_retriever = BM25Retriever(document_store=document_store, top_k=2)"
   ]
  },
  {
   "cell_type": "code",
   "execution_count": 17,
   "metadata": {},
   "outputs": [],
   "source": [
    "item_id = \"usa_san francisco_abigail_hotel\"\n",
    "query = \"How is the service?\"\n",
    "retrieved_docs = BM25_retriever.retrieve(\n",
    "    query=query, top_k=3, filters={\"item_id\":[item_id], \"split\":[\"train\"]})"
   ]
  },
  {
   "cell_type": "code",
   "execution_count": 18,
   "metadata": {},
   "outputs": [
    {
     "name": "stdout",
     "output_type": "stream",
     "text": [
      "<Document: id=cc9c07a76e16a214f42b7d015f485868, content='After reading the reviews I was expecting the worst... the hotel is comfortable, large rooms and fri...'>\n"
     ]
    }
   ],
   "source": [
    "print(retrieved_docs[0])"
   ]
  },
  {
   "attachments": {},
   "cell_type": "markdown",
   "metadata": {},
   "source": [
    "## Evaluation for Retriever"
   ]
  },
  {
   "attachments": {},
   "cell_type": "markdown",
   "metadata": {},
   "source": [
    "Evaluating the retriever is the same as evaluating a `DocumentSearchPipeline`, which consists only of a single node, a retriever."
   ]
  },
  {
   "cell_type": "code",
   "execution_count": 19,
   "metadata": {},
   "outputs": [],
   "source": [
    "pipe = DocumentSearchPipeline(retriever=BM25_retriever)"
   ]
  },
  {
   "cell_type": "code",
   "execution_count": 20,
   "metadata": {},
   "outputs": [],
   "source": [
    "labels = []\n",
    "for i, row in dfs[\"test\"].iterrows():\n",
    "    # Metadata used for filtering in the Retriever\n",
    "    meta = {\"item_id\": row[\"title\"], \"question_id\": row[\"id\"]}\n",
    "    # Populate labels for questions with answers\n",
    "    if len(row[\"answers.text\"]):\n",
    "        for answer in row[\"answers.text\"]:\n",
    "            label = Label(\n",
    "                query=row[\"question\"], answer=Answer(answer=answer), origin=\"gold-label\", document=Document(content=row[\"context\"], id=row[\"review_id\"]),\n",
    "                meta=meta, is_correct_answer=True, is_correct_document=True,\n",
    "                no_answer=False, filters={\"item_id\": [meta[\"item_id\"]], \"split\":[\"test\"]})\n",
    "            labels.append(label)\n",
    "    # Populate labels for questions without answers\n",
    "    else:\n",
    "        label = Label(\n",
    "            query=row[\"question\"], answer=Answer(answer=\"\"), origin=\"gold-label\", document=Document(content=row[\"context\"], id=row[\"review_id\"]),\n",
    "            meta=meta, is_correct_answer=True, is_correct_document=True,\n",
    "            no_answer=True, filters={\"item_id\": [row[\"title\"]], \"split\":[\"test\"]})  \n",
    "        labels.append(label)"
   ]
  },
  {
   "cell_type": "code",
   "execution_count": 21,
   "metadata": {},
   "outputs": [
    {
     "name": "stdout",
     "output_type": "stream",
     "text": [
      "Loaded 724 question-answer pairs\n"
     ]
    }
   ],
   "source": [
    "document_store.write_labels(labels, index=\"label\")\n",
    "\n",
    "print(f\"\"\"Loaded {document_store.get_label_count(index=\"label\")} \\\n",
    "question-answer pairs\"\"\")"
   ]
  },
  {
   "cell_type": "code",
   "execution_count": 22,
   "metadata": {},
   "outputs": [
    {
     "name": "stdout",
     "output_type": "stream",
     "text": [
      "413\n"
     ]
    }
   ],
   "source": [
    "labels_agg = document_store.get_all_labels_aggregated(\n",
    "    index=\"label\",\n",
    "    open_domain=True,\n",
    "    aggregate_by_meta=[\"item_id\"]\n",
    ")\n",
    "print(len(labels_agg))"
   ]
  },
  {
   "cell_type": "code",
   "execution_count": 23,
   "metadata": {},
   "outputs": [],
   "source": [
    "# We can run the pipeline with the desired top_k value like this\n",
    "eval_result = pipe.eval(\n",
    "    labels=labels_agg,\n",
    "    params={\"Retriever\": {\"top_k\": 3}},\n",
    ")\n",
    "metrics = eval_result.calculate_metrics()"
   ]
  },
  {
   "cell_type": "code",
   "execution_count": 24,
   "metadata": {},
   "outputs": [
    {
     "name": "stdout",
     "output_type": "stream",
     "text": [
      "Recall@3: 0.77\n"
     ]
    }
   ],
   "source": [
    "print(f\"Recall@3: {metrics['Retriever']['recall_single_hit']:.2f}\")"
   ]
  },
  {
   "attachments": {},
   "cell_type": "markdown",
   "metadata": {},
   "source": [
    "if we want to calculate metrics for multiple topk values, we can run the pipeline only once with the highest top_k value and calculate metrics for smaller top_ks afterwards"
   ]
  },
  {
   "cell_type": "code",
   "execution_count": 25,
   "metadata": {},
   "outputs": [
    {
     "name": "stderr",
     "output_type": "stream",
     "text": [
      "c:\\Users\\EzLaser\\anaconda3\\envs\\sohai\\lib\\site-packages\\haystack\\schema.py:1414: SettingWithCopyWarning: \n",
      "A value is trying to be set on a copy of a slice from a DataFrame.\n",
      "Try using .loc[row_indexer,col_indexer] = value instead\n",
      "\n",
      "See the caveats in the documentation: https://pandas.pydata.org/pandas-docs/stable/user_guide/indexing.html#returning-a-view-versus-a-copy\n",
      "  documents[\"matched_label_idxs\"] = documents.apply(find_matched_label_idxs, axis=1)\n",
      "c:\\Users\\EzLaser\\anaconda3\\envs\\sohai\\lib\\site-packages\\haystack\\schema.py:1414: SettingWithCopyWarning: \n",
      "A value is trying to be set on a copy of a slice from a DataFrame.\n",
      "Try using .loc[row_indexer,col_indexer] = value instead\n",
      "\n",
      "See the caveats in the documentation: https://pandas.pydata.org/pandas-docs/stable/user_guide/indexing.html#returning-a-view-versus-a-copy\n",
      "  documents[\"matched_label_idxs\"] = documents.apply(find_matched_label_idxs, axis=1)\n",
      "c:\\Users\\EzLaser\\anaconda3\\envs\\sohai\\lib\\site-packages\\haystack\\schema.py:1414: SettingWithCopyWarning: \n",
      "A value is trying to be set on a copy of a slice from a DataFrame.\n",
      "Try using .loc[row_indexer,col_indexer] = value instead\n",
      "\n",
      "See the caveats in the documentation: https://pandas.pydata.org/pandas-docs/stable/user_guide/indexing.html#returning-a-view-versus-a-copy\n",
      "  documents[\"matched_label_idxs\"] = documents.apply(find_matched_label_idxs, axis=1)\n",
      "c:\\Users\\EzLaser\\anaconda3\\envs\\sohai\\lib\\site-packages\\haystack\\schema.py:1414: SettingWithCopyWarning: \n",
      "A value is trying to be set on a copy of a slice from a DataFrame.\n",
      "Try using .loc[row_indexer,col_indexer] = value instead\n",
      "\n",
      "See the caveats in the documentation: https://pandas.pydata.org/pandas-docs/stable/user_guide/indexing.html#returning-a-view-versus-a-copy\n",
      "  documents[\"matched_label_idxs\"] = documents.apply(find_matched_label_idxs, axis=1)\n"
     ]
    }
   ],
   "source": [
    "def evaluate_retriever(retriever, topk_values = [1,3,5,10,20]):\n",
    "    topk_results = {}\n",
    "    # Calculate max top_k\n",
    "    max_top_k = max(topk_values)\n",
    "    # Create Pipeline\n",
    "    p = DocumentSearchPipeline(retriever=retriever)\n",
    "    # Run inference with max top_k by looping over each question-answers pair in test set\n",
    "    eval_result = p.eval(\n",
    "        labels=labels_agg,\n",
    "        params={\"Retriever\": {\"top_k\": max_top_k}},\n",
    "    )\n",
    "    # Calculate metric for each top_k value\n",
    "    for topk in topk_values:        \n",
    "        # Get metrics\n",
    "        metrics = eval_result.calculate_metrics(simulated_top_k_retriever=topk)\n",
    "        topk_results[topk] = {\"recall\": metrics[\"Retriever\"][\"recall_single_hit\"]}\n",
    "        \n",
    "    return pd.DataFrame.from_dict(topk_results, orient=\"index\")\n",
    "\n",
    "\n",
    "bm25_topk_df = evaluate_retriever(BM25_retriever)"
   ]
  },
  {
   "cell_type": "code",
   "execution_count": 26,
   "metadata": {},
   "outputs": [
    {
     "data": {
      "image/png": "[encoded data removed]",
      "text/plain": [
       "<Figure size 640x480 with 1 Axes>"
      ]
     },
     "metadata": {},
     "output_type": "display_data"
    }
   ],
   "source": [
    "def plot_retriever_eval(dfs, retriever_names):\n",
    "    fig, ax = plt.subplots()\n",
    "    for df, retriever_name in zip(dfs, retriever_names):\n",
    "        df.plot(y=\"recall\", ax=ax, label=retriever_name)\n",
    "    plt.xticks(df.index)\n",
    "    plt.ylabel(\"Top-k Recall\")\n",
    "    plt.xlabel(\"k\")\n",
    "    plt.show()\n",
    "    \n",
    "plot_retriever_eval([bm25_topk_df], [\"BM25\"])"
   ]
  },
  {
   "attachments": {},
   "cell_type": "markdown",
   "metadata": {},
   "source": [
    "#### Dense Passage Retrieval"
   ]
  },
  {
   "cell_type": "code",
   "execution_count": 59,
   "metadata": {},
   "outputs": [
    {
     "name": "stderr",
     "output_type": "stream",
     "text": [
      "The tokenizer class you load from this checkpoint is not the same type as the class this function is called from. It may result in unexpected tokenization. \n",
      "The tokenizer class you load from this checkpoint is 'DPRQuestionEncoderTokenizer'. \n",
      "The class this function is called from is 'DPRContextEncoderTokenizerFast'.\n"
     ]
    }
   ],
   "source": [
    "dpr_retriever = DensePassageRetriever(document_store=document_store,\n",
    "    query_embedding_model=\"facebook/dpr-question_encoder-single-nq-base\",\n",
    "    passage_embedding_model=\"facebook/dpr-ctx_encoder-single-nq-base\",\n",
    "    embed_title=False)"
   ]
  },
  {
   "cell_type": "code",
   "execution_count": 60,
   "metadata": {},
   "outputs": [
    {
     "data": {
      "application/vnd.jupyter.widget-view+json": {
       "model_id": "4f243eb8b36d483ba95e5b22733e07b3",
       "version_major": 2,
       "version_minor": 0
      },
      "text/plain": [
       "Updating embeddings:   0%|          | 0/1172 [00:00<?, ? Docs/s]"
      ]
     },
     "metadata": {},
     "output_type": "display_data"
    },
    {
     "data": {
      "application/vnd.jupyter.widget-view+json": {
       "model_id": "1afc5ace0be64e5ab45c3732b241a966",
       "version_major": 2,
       "version_minor": 0
      },
      "text/plain": [
       "Create embeddings:   0%|          | 0/1184 [00:00<?, ? Docs/s]"
      ]
     },
     "metadata": {},
     "output_type": "display_data"
    }
   ],
   "source": [
    "document_store.update_embeddings(retriever=dpr_retriever)"
   ]
  },
  {
   "cell_type": "code",
   "execution_count": 33,
   "metadata": {},
   "outputs": [
    {
     "name": "stderr",
     "output_type": "stream",
     "text": [
      "c:\\Users\\EzLaser\\anaconda3\\envs\\sohai\\lib\\site-packages\\haystack\\schema.py:1414: SettingWithCopyWarning: \n",
      "A value is trying to be set on a copy of a slice from a DataFrame.\n",
      "Try using .loc[row_indexer,col_indexer] = value instead\n",
      "\n",
      "See the caveats in the documentation: https://pandas.pydata.org/pandas-docs/stable/user_guide/indexing.html#returning-a-view-versus-a-copy\n",
      "  documents[\"matched_label_idxs\"] = documents.apply(find_matched_label_idxs, axis=1)\n",
      "c:\\Users\\EzLaser\\anaconda3\\envs\\sohai\\lib\\site-packages\\haystack\\schema.py:1414: SettingWithCopyWarning: \n",
      "A value is trying to be set on a copy of a slice from a DataFrame.\n",
      "Try using .loc[row_indexer,col_indexer] = value instead\n",
      "\n",
      "See the caveats in the documentation: https://pandas.pydata.org/pandas-docs/stable/user_guide/indexing.html#returning-a-view-versus-a-copy\n",
      "  documents[\"matched_label_idxs\"] = documents.apply(find_matched_label_idxs, axis=1)\n",
      "c:\\Users\\EzLaser\\anaconda3\\envs\\sohai\\lib\\site-packages\\haystack\\schema.py:1414: SettingWithCopyWarning: \n",
      "A value is trying to be set on a copy of a slice from a DataFrame.\n",
      "Try using .loc[row_indexer,col_indexer] = value instead\n",
      "\n",
      "See the caveats in the documentation: https://pandas.pydata.org/pandas-docs/stable/user_guide/indexing.html#returning-a-view-versus-a-copy\n",
      "  documents[\"matched_label_idxs\"] = documents.apply(find_matched_label_idxs, axis=1)\n",
      "c:\\Users\\EzLaser\\anaconda3\\envs\\sohai\\lib\\site-packages\\haystack\\schema.py:1414: SettingWithCopyWarning: \n",
      "A value is trying to be set on a copy of a slice from a DataFrame.\n",
      "Try using .loc[row_indexer,col_indexer] = value instead\n",
      "\n",
      "See the caveats in the documentation: https://pandas.pydata.org/pandas-docs/stable/user_guide/indexing.html#returning-a-view-versus-a-copy\n",
      "  documents[\"matched_label_idxs\"] = documents.apply(find_matched_label_idxs, axis=1)\n"
     ]
    },
    {
     "data": {
      "image/png": "[encoded data removed]",
      "text/plain": [
       "<Figure size 640x480 with 1 Axes>"
      ]
     },
     "metadata": {},
     "output_type": "display_data"
    }
   ],
   "source": [
    "dpr_topk_df = evaluate_retriever(dpr_retriever)\n",
    "plot_retriever_eval([bm25_topk_df, dpr_topk_df], [\"BM25\", \"DPR\"])"
   ]
  },
  {
   "attachments": {},
   "cell_type": "markdown",
   "metadata": {},
   "source": [
    "## Initializing a reader"
   ]
  },
  {
   "cell_type": "code",
   "execution_count": 27,
   "metadata": {},
   "outputs": [
    {
     "name": "stderr",
     "output_type": "stream",
     "text": [
      "c:\\Users\\EzLaser\\anaconda3\\envs\\sohai\\lib\\site-packages\\torch\\_utils.py:776: UserWarning: TypedStorage is deprecated. It will be removed in the future and UntypedStorage will be the only storage class. This should only matter to you if you are using storages directly.  To access UntypedStorage directly, use tensor.untyped_storage() instead of tensor.storage()\n",
      "  return self.fget.__get__(instance, owner)()\n"
     ]
    }
   ],
   "source": [
    "reader_1 = FARMReader(\"deepset/roberta-base-squad2\", progress_bar=False)"
   ]
  },
  {
   "cell_type": "code",
   "execution_count": 30,
   "metadata": {},
   "outputs": [],
   "source": [
    "max_seq_length, doc_stride = 384, 128"
   ]
  },
  {
   "cell_type": "code",
   "execution_count": 29,
   "metadata": {},
   "outputs": [],
   "source": [
    "reader_2 = FARMReader(\"deepset/minilm-uncased-squad2\", progress_bar=False,\n",
    "                    max_seq_len=max_seq_length, doc_stride=doc_stride, \n",
    "                    return_no_answer=True)"
   ]
  },
  {
   "cell_type": "code",
   "execution_count": 30,
   "metadata": {},
   "outputs": [],
   "source": [
    "reader_3 = FARMReader(\"ahotrod/albert_xxlargev1_squad2_512\", progress_bar=False)"
   ]
  },
  {
   "cell_type": "code",
   "execution_count": 37,
   "metadata": {},
   "outputs": [],
   "source": [
    "retriever_reader_pipe = ExtractiveQAPipeline(reader=reader_2, retriever=BM25_retriever)"
   ]
  },
  {
   "cell_type": "code",
   "execution_count": 38,
   "metadata": {},
   "outputs": [
    {
     "name": "stdout",
     "output_type": "stream",
     "text": [
      "Question: How is the service? \n",
      "\n",
      "Answer 1: \n",
      "Review snippet: ...None...\n",
      "\n",
      "\n",
      "\n",
      "Answer 2: free internet\n",
      "Review snippet: ...ople desire for breakfast not stacks of pancakes and fried food. Well done Abigail for getting this right! Oh and there is free internet in the lobby....\n",
      "\n",
      "\n",
      "\n"
     ]
    },
    {
     "ename": "IndexError",
     "evalue": "list index out of range",
     "output_type": "error",
     "traceback": [
      "\u001b[1;31m---------------------------------------------------------------------------\u001b[0m",
      "\u001b[1;31mIndexError\u001b[0m                                Traceback (most recent call last)",
      "Cell \u001b[1;32mIn[38], line 8\u001b[0m\n\u001b[0;32m      5\u001b[0m \u001b[39mprint\u001b[39m(\u001b[39mf\u001b[39m\u001b[39m\"\u001b[39m\u001b[39mQuestion: \u001b[39m\u001b[39m{\u001b[39;00mpreds[\u001b[39m'\u001b[39m\u001b[39mquery\u001b[39m\u001b[39m'\u001b[39m]\u001b[39m}\u001b[39;00m\u001b[39m \u001b[39m\u001b[39m\\n\u001b[39;00m\u001b[39m\"\u001b[39m)\n\u001b[0;32m      7\u001b[0m \u001b[39mfor\u001b[39;00m idx \u001b[39min\u001b[39;00m \u001b[39mrange\u001b[39m(n_answers):\n\u001b[1;32m----> 8\u001b[0m     \u001b[39mprint\u001b[39m(\u001b[39mf\u001b[39m\u001b[39m\"\u001b[39m\u001b[39mAnswer \u001b[39m\u001b[39m{\u001b[39;00midx\u001b[39m+\u001b[39m\u001b[39m1\u001b[39m\u001b[39m}\u001b[39;00m\u001b[39m: \u001b[39m\u001b[39m{\u001b[39;00mpreds[\u001b[39m'\u001b[39m\u001b[39manswers\u001b[39m\u001b[39m'\u001b[39m][idx]\u001b[39m.\u001b[39manswer\u001b[39m}\u001b[39;00m\u001b[39m\"\u001b[39m)\n\u001b[0;32m      9\u001b[0m     \u001b[39mprint\u001b[39m(\u001b[39mf\u001b[39m\u001b[39m\"\u001b[39m\u001b[39mReview snippet: ...\u001b[39m\u001b[39m{\u001b[39;00mpreds[\u001b[39m'\u001b[39m\u001b[39manswers\u001b[39m\u001b[39m'\u001b[39m][idx]\u001b[39m.\u001b[39mcontext\u001b[39m}\u001b[39;00m\u001b[39m...\u001b[39m\u001b[39m\"\u001b[39m)\n\u001b[0;32m     10\u001b[0m     \u001b[39mprint\u001b[39m(\u001b[39m\"\u001b[39m\u001b[39m\\n\u001b[39;00m\u001b[39m\\n\u001b[39;00m\u001b[39m\"\u001b[39m)\n",
      "\u001b[1;31mIndexError\u001b[0m: list index out of range"
     ]
    }
   ],
   "source": [
    "n_answers = 3\n",
    "preds = retriever_reader_pipe.run(query=query, params={\"Retriever\": {\"top_k\": 3, \"filters\":{\"item_id\": [item_id], \"split\":[\"train\"]}}, \n",
    "                                      \"Reader\": {\"top_k\": n_answers}})\n",
    "\n",
    "print(f\"Question: {preds['query']} \\n\")\n",
    "\n",
    "for idx in range(n_answers):\n",
    "    print(f\"Answer {idx+1}: {preds['answers'][idx].answer}\")\n",
    "    print(f\"Review snippet: ...{preds['answers'][idx].context}...\")\n",
    "    print(\"\\n\\n\")"
   ]
  },
  {
   "attachments": {},
   "cell_type": "markdown",
   "metadata": {},
   "source": [
    "## Evaluate the Reader -> BM 25"
   ]
  },
  {
   "attachments": {},
   "cell_type": "markdown",
   "metadata": {},
   "source": [
    "### SquAD only"
   ]
  },
  {
   "attachments": {},
   "cell_type": "markdown",
   "metadata": {},
   "source": [
    "MiniLM"
   ]
  },
  {
   "cell_type": "code",
   "execution_count": 34,
   "metadata": {},
   "outputs": [],
   "source": [
    "def evaluate_reader(reader):\n",
    "    score_keys = ['exact_match', 'f1']\n",
    "    p = Pipeline()\n",
    "    p.add_node(component=reader, name=\"Reader\", inputs=[\"Query\"])\n",
    "\n",
    "    eval_result = p.eval(\n",
    "        labels=labels_agg,\n",
    "        documents= [[label.document for label in multilabel.labels] for multilabel in labels_agg],\n",
    "        params={},\n",
    "    )\n",
    "    metrics = eval_result.calculate_metrics(simulated_top_k_reader=1)\n",
    "                \n",
    "    return {k:v for k,v in metrics[\"Reader\"].items() if k in score_keys}"
   ]
  },
  {
   "cell_type": "code",
   "execution_count": 34,
   "metadata": {},
   "outputs": [],
   "source": [
    "reader_eval = {}\n",
    "reader_eval[\"MiniLM Fine-tune on SQuAD\"] = evaluate_reader(reader_2)"
   ]
  },
  {
   "cell_type": "code",
   "execution_count": 38,
   "metadata": {},
   "outputs": [],
   "source": [
    "def plot_reader_eval(reader_eval):\n",
    "    fig, ax = plt.subplots()\n",
    "    df = pd.DataFrame.from_dict(reader_eval).reindex([\"exact_match\", \"f1\"])\n",
    "    df.plot(kind=\"bar\", ylabel=\"Score\", rot=0, ax=ax)\n",
    "    ax.set_xticklabels([\"EM\", \"F1\"])\n",
    "    plt.legend(loc='upper left')\n",
    "    plt.show()"
   ]
  },
  {
   "cell_type": "code",
   "execution_count": 36,
   "metadata": {},
   "outputs": [
    {
     "data": {
      "image/png": "[encoded data removed]",
      "text/plain": [
       "<Figure size 640x480 with 1 Axes>"
      ]
     },
     "metadata": {},
     "output_type": "display_data"
    }
   ],
   "source": [
    "plot_reader_eval(reader_eval)"
   ]
  },
  {
   "attachments": {},
   "cell_type": "markdown",
   "metadata": {},
   "source": [
    "RoBERTa"
   ]
  },
  {
   "cell_type": "code",
   "execution_count": 37,
   "metadata": {},
   "outputs": [],
   "source": [
    "reader_eval[\"RoBERTa Fine-tune on SQuAD\"] = evaluate_reader(reader_1)"
   ]
  },
  {
   "cell_type": "code",
   "execution_count": 38,
   "metadata": {},
   "outputs": [
    {
     "data": {
      "image/png": "[encoded data removed]",
      "text/plain": [
       "<Figure size 640x480 with 1 Axes>"
      ]
     },
     "metadata": {},
     "output_type": "display_data"
    }
   ],
   "source": [
    "plot_reader_eval(reader_eval)"
   ]
  },
  {
   "attachments": {},
   "cell_type": "markdown",
   "metadata": {},
   "source": [
    "ALBERT"
   ]
  },
  {
   "cell_type": "code",
   "execution_count": 39,
   "metadata": {},
   "outputs": [],
   "source": [
    "reader_eval[\"ALBERT Fine-tune on SQuAD\"] = evaluate_reader(reader_3)"
   ]
  },
  {
   "cell_type": "code",
   "execution_count": 40,
   "metadata": {},
   "outputs": [
    {
     "data": {
      "image/png": "[encoded data removed]",
      "text/plain": [
       "<Figure size 640x480 with 1 Axes>"
      ]
     },
     "metadata": {},
     "output_type": "display_data"
    }
   ],
   "source": [
    "plot_reader_eval(reader_eval)"
   ]
  },
  {
   "cell_type": "code",
   "execution_count": 41,
   "metadata": {},
   "outputs": [
    {
     "name": "stdout",
     "output_type": "stream",
     "text": [
      "{'MiniLM Fine-tune on SQuAD': {'exact_match': 0.3099273607748184, 'f1': 0.44213008900070633}, 'RoBERTa Fine-tune on SQuAD': {'exact_match': 0.10653753026634383, 'f1': 0.28498608019768623}, 'ALBERT Fine-tune on SQuAD': {'exact_match': 0.08232445520581114, 'f1': 0.27353894489171576}}\n"
     ]
    }
   ],
   "source": [
    "print(reader_eval)"
   ]
  },
  {
   "attachments": {},
   "cell_type": "markdown",
   "metadata": {},
   "source": [
    "### SQuAD + SubjQA"
   ]
  },
  {
   "cell_type": "code",
   "execution_count": 63,
   "metadata": {},
   "outputs": [],
   "source": [
    "reader_eval_1 = {}"
   ]
  },
  {
   "cell_type": "code",
   "execution_count": 28,
   "metadata": {},
   "outputs": [],
   "source": [
    "def create_paragraphs(df):\n",
    "    paragraphs = []\n",
    "    id2context = dict(zip(df[\"review_id\"], df[\"context\"]))\n",
    "    for review_id, review in id2context.items():\n",
    "        qas = []\n",
    "        # Filter for all question-answer pairs about a specific context\n",
    "        review_df = df.query(f\"review_id == '{review_id}'\")\n",
    "        id2question = dict(zip(review_df[\"id\"], review_df[\"question\"]))\n",
    "        # Build up the qas array\n",
    "        for qid, question in id2question.items():\n",
    "            # Filter for a single question ID\n",
    "            question_df = df.query(f\"id == '{qid}'\").to_dict(orient=\"list\")\n",
    "            ans_start_idxs = question_df[\"answers.answer_start\"][0].tolist()\n",
    "            ans_text = question_df[\"answers.text\"][0].tolist()\n",
    "            # Fill answerable questions\n",
    "            if len(ans_start_idxs):\n",
    "                answers = [\n",
    "                    {\"text\": text, \"answer_start\": answer_start}\n",
    "                    for text, answer_start in zip(ans_text, ans_start_idxs)]\n",
    "                is_impossible = False\n",
    "            else:\n",
    "                answers = []\n",
    "                is_impossible = True\n",
    "            # Add question-answer pairs to qas\n",
    "            qas.append({\"question\": question, \"id\": qid, \n",
    "                        \"is_impossible\": is_impossible, \"answers\": answers})\n",
    "        # Add context and question-answer pairs to paragraphs\n",
    "        paragraphs.append({\"qas\": qas, \"context\": review})\n",
    "    return paragraphs\n",
    "     "
   ]
  },
  {
   "cell_type": "code",
   "execution_count": 29,
   "metadata": {},
   "outputs": [
    {
     "data": {
      "text/plain": [
       "[{'qas': [{'question': 'How beautiful is the place?',\n",
       "    'id': '074ee3857fe4a252088ae43606bd4cb9',\n",
       "    'is_impossible': False,\n",
       "    'answers': [{'text': 'San Fran is really awesome', 'answer_start': 555}]}],\n",
       "  'context': \"After reading the reviews I was expecting the worst... the hotel is comfortable, large rooms and friendly staff. Free breakfast was included which is a lot more than what we got in other much more expensive hotels we stayed in in California. The area which the hotel is in is indeed ghetto, drug dealers and users but they keep themselves to themselves. A bus or taxi is advisable to the centre as it is a distance to the main attractions. It is a budget hotel and doesn't claim to be anything else, worth the money and if you are travelling it is ideal. San Fran is really awesome ( least place we were looking forward to whilst travelling California) however it proved to be amazing. We cycled golden gate bridge, went to Alcatraz, countless bars and restaurants and lombard road is neat too! If you are staying for a short time then the Abigail is fine and a normal breakfast of toast and juice is what most people desire for breakfast not stacks of pancakes and fried food. Well done Abigail for getting this right! Oh and there is free internet in the lobby.\"}]"
      ]
     },
     "execution_count": 29,
     "metadata": {},
     "output_type": "execute_result"
    }
   ],
   "source": [
    "product = dfs[\"train\"].query(\"title == 'usa_san francisco_abigail_hotel'\")\n",
    "create_paragraphs(product)"
   ]
  },
  {
   "cell_type": "code",
   "execution_count": 30,
   "metadata": {},
   "outputs": [],
   "source": [
    "import json\n",
    "\n",
    "def convert_to_squad(dfs):\n",
    "    for split, df in dfs.items():\n",
    "        subjqa_data = {}\n",
    "        # Create `paragraphs` for each product ID\n",
    "        groups = (df.groupby(\"title\").apply(create_paragraphs)\n",
    "            .to_frame(name=\"paragraphs\").reset_index())\n",
    "        subjqa_data[\"data\"] = groups.to_dict(orient=\"records\")\n",
    "        # Save the result to disk\n",
    "        with open(f\"tripadvisor-{split}.json\", \"w+\", encoding=\"utf-8\") as f:\n",
    "            json.dump(subjqa_data, f)\n",
    "            \n",
    "convert_to_squad(dfs)"
   ]
  },
  {
   "cell_type": "code",
   "execution_count": 31,
   "metadata": {},
   "outputs": [],
   "source": [
    "train_filename = \"tripadvisor-train.json\"\n",
    "dev_filename = \"tripadvisor-validation.json\""
   ]
  },
  {
   "attachments": {},
   "cell_type": "markdown",
   "metadata": {},
   "source": [
    "MiniLM"
   ]
  },
  {
   "cell_type": "code",
   "execution_count": null,
   "metadata": {},
   "outputs": [],
   "source": [
    "reader_1.train(data_dir=\".\", use_gpu=True, n_epochs=1, batch_size=4,\n",
    "             train_filename=train_filename, dev_filename=dev_filename)"
   ]
  },
  {
   "cell_type": "code",
   "execution_count": 33,
   "metadata": {},
   "outputs": [],
   "source": [
    "# save the model\n",
    "reader_1.save(\"minilm_squad_subjqa\")"
   ]
  },
  {
   "cell_type": "code",
   "execution_count": 32,
   "metadata": {},
   "outputs": [
    {
     "name": "stderr",
     "output_type": "stream",
     "text": [
      "c:\\Users\\EzLaser\\anaconda3\\envs\\sohai\\lib\\site-packages\\torch\\_utils.py:776: UserWarning: TypedStorage is deprecated. It will be removed in the future and UntypedStorage will be the only storage class. This should only matter to you if you are using storages directly.  To access UntypedStorage directly, use tensor.untyped_storage() instead of tensor.storage()\n",
      "  return self.fget.__get__(instance, owner)()\n",
      "Some unused parameters are passed to the QuestionAnsweringHead. Might not be a problem. Params: {\"training\": true, \"num_labels\": 2, \"ph_output_type\": \"per_token_squad\", \"model_type\": \"span_classification\", \"label_tensor_name\": \"question_answering_label_ids\", \"label_list\": [\"start_token\", \"end_token\"], \"metric\": \"squad\", \"name\": \"QuestionAnsweringHead\"}\n"
     ]
    }
   ],
   "source": [
    "# load the model \n",
    "reader_1 = FARMReader(\"minilm_squad_subjqa\")"
   ]
  },
  {
   "cell_type": "code",
   "execution_count": null,
   "metadata": {},
   "outputs": [],
   "source": [
    "reader_eval_1[\"MiniLM Fine-tune on SQuAD + SubjQA\"] = evaluate_reader(reader_1)"
   ]
  },
  {
   "cell_type": "code",
   "execution_count": 65,
   "metadata": {},
   "outputs": [
    {
     "data": {
      "image/png": "[encoded data removed]",
      "text/plain": [
       "<Figure size 640x480 with 1 Axes>"
      ]
     },
     "metadata": {},
     "output_type": "display_data"
    }
   ],
   "source": [
    "plot_reader_eval(reader_eval_1)"
   ]
  },
  {
   "attachments": {},
   "cell_type": "markdown",
   "metadata": {},
   "source": [
    "RoBERTa"
   ]
  },
  {
   "cell_type": "code",
   "execution_count": 36,
   "metadata": {},
   "outputs": [
    {
     "data": {
      "application/vnd.jupyter.widget-view+json": {
       "model_id": "984ae9cb91dd49abb5793f99deab2693",
       "version_major": 2,
       "version_minor": 0
      },
      "text/plain": [
       "Preprocessing dataset:   0%|          | 0/2 [00:00<?, ? Dicts/s]"
      ]
     },
     "metadata": {},
     "output_type": "display_data"
    },
    {
     "name": "stderr",
     "output_type": "stream",
     "text": [
      "Answer 'The staff were fantastic, the rooms were nice and the location was perfect for us. We were half a block from the Cable Car line (Powell St), a short walk to 24hr convienience stores/Starbucks and Union square and just a short stroll to shopping, great bars/restaurants (including Andrees). There was free internet access which was great for overseas guests, complimentary wine tasting every night in the bar and a cab ride to Fishermans Wharf was around $8. Chinatown was a short cab ride, so too is AT&amp;T Park for a Giants game. The only low light of SF was the amount of homeless people preying on you everytime you stop or pass them for money and the weather was unpredictable (not the Hotel Rexs' fault).Thumbs up from Oz ANSWERNOTFOUND' not contained in context.\n",
      "Example will not be converted for training/evaluation.\n",
      "Answer 'Location is central and right by tram stop. Clean, quiet, very comfortable room which was just as good as a lot of 5 star hotels I've stayed in (minus certain amenities such as shoe cleaner and toilet amenities....but no big deal). We seemed to make right choice by booking room only basis. Breakfast is $18 at the hotel but saw very few people eating there. In the area there are some great places for breakfast and at much cheaper prices. Front desk staff very helpful and polite. ANSWERNOTFOUND' not contained in context.\n",
      "Example will not be converted for training/evaluation.\n",
      "Answer 'The bedrooms were clean and decorated beautifully, the beds feel like you are sleeping on air, and the bathrooms were luxurious and stocked with great bath products. One bartender was outright rude, but everyone else (especially housekeeping and the concierge) was extremely nice and helpful. We got excellent recommendations on restaurants.Parking is outrageous ($46.50 per day) but we parked our car ourselves in the same garage the valets use (on Minna, one minute walk from the hotel) and paid $20 per day. It was definitely worth the expense to have our car to explore the city.I am in my late 20's but was there for a quiet vacation with my boyfriend. We enjoyed being away from the bustle of Union Square, and the walk helped with the great restaurants we tried out. The hotel is geared towards a younger crowd but we saw many older patrons who seemed to be enjoying themselves.I would highly recommend this hotel to anyone venturing to San Francisco. ANSWERNOTFOUND' not contained in context.\n",
      "Example will not be converted for training/evaluation.\n",
      "Unable to convert 3 samples to features. Their ids are : 291-0-0, 127-0-0, 92-0-0\n"
     ]
    },
    {
     "data": {
      "application/vnd.jupyter.widget-view+json": {
       "model_id": "53aa861f86654986a259911658cd49a3",
       "version_major": 2,
       "version_minor": 0
      },
      "text/plain": [
       "Preprocessing dataset:   0%|          | 0/1 [00:00<?, ? Dicts/s]"
      ]
     },
     "metadata": {},
     "output_type": "display_data"
    },
    {
     "name": "stderr",
     "output_type": "stream",
     "text": [
      "Answer 'The employees are attentive, friendly and provides excellent service. And the room is very clean with nice amenities. Strongly recommended for leisure or business stay. Cheers ANSWERNOTFOUND' not contained in context.\n",
      "Example will not be converted for training/evaluation.\n",
      "Unable to convert 4 samples to features. Their ids are : 291-0-0, 225-0-0, 127-0-0, 92-0-0\n"
     ]
    }
   ],
   "source": [
    "reader_2.train(data_dir=\".\", use_gpu=True, n_epochs=1, batch_size=8,\n",
    "             train_filename=train_filename, dev_filename=dev_filename)"
   ]
  },
  {
   "cell_type": "code",
   "execution_count": 37,
   "metadata": {},
   "outputs": [],
   "source": [
    "# save the model\n",
    "reader_2.save(\"roberta_squad_subjqa\")"
   ]
  },
  {
   "cell_type": "code",
   "execution_count": 3,
   "metadata": {},
   "outputs": [
    {
     "name": "stderr",
     "output_type": "stream",
     "text": [
      "Some unused parameters are passed to the QuestionAnsweringHead. Might not be a problem. Params: {\"training\": true, \"num_labels\": 2, \"ph_output_type\": \"per_token_squad\", \"model_type\": \"span_classification\", \"label_tensor_name\": \"question_answering_label_ids\", \"label_list\": [\"start_token\", \"end_token\"], \"metric\": \"squad\", \"name\": \"QuestionAnsweringHead\"}\n"
     ]
    }
   ],
   "source": [
    "# load the model \n",
    "reader_2 = FARMReader(\"roberta_squad_subjqa\")"
   ]
  },
  {
   "cell_type": "code",
   "execution_count": null,
   "metadata": {},
   "outputs": [],
   "source": [
    "reader_eval_1[\"RoBERTa Fine-tune on SQuAD + SubjQA\"] = evaluate_reader(reader_2)"
   ]
  },
  {
   "cell_type": "code",
   "execution_count": 69,
   "metadata": {},
   "outputs": [
    {
     "data": {
      "image/png": "[encoded data removed]",
      "text/plain": [
       "<Figure size 640x480 with 1 Axes>"
      ]
     },
     "metadata": {},
     "output_type": "display_data"
    }
   ],
   "source": [
    "plot_reader_eval(reader_eval_1)"
   ]
  },
  {
   "attachments": {},
   "cell_type": "markdown",
   "metadata": {},
   "source": [
    "ALBERT"
   ]
  },
  {
   "cell_type": "code",
   "execution_count": 32,
   "metadata": {},
   "outputs": [
    {
     "data": {
      "application/vnd.jupyter.widget-view+json": {
       "model_id": "08c80206c9904d0d8465209edc217cef",
       "version_major": 2,
       "version_minor": 0
      },
      "text/plain": [
       "Preprocessing dataset:   0%|          | 0/2 [00:00<?, ? Dicts/s]"
      ]
     },
     "metadata": {},
     "output_type": "display_data"
    },
    {
     "name": "stderr",
     "output_type": "stream",
     "text": [
      "Answer 'The staff were fantastic, the rooms were nice and the location was perfect for us. We were half a block from the Cable Car line (Powell St), a short walk to 24hr convienience stores/Starbucks and Union square and just a short stroll to shopping, great bars/restaurants (including Andrees). There was free internet access which was great for overseas guests, complimentary wine tasting every night in the bar and a cab ride to Fishermans Wharf was around $8. Chinatown was a short cab ride, so too is AT&amp;T Park for a Giants game. The only low light of SF was the amount of homeless people preying on you everytime you stop or pass them for money and the weather was unpredictable (not the Hotel Rexs' fault).Thumbs up from Oz ANSWERNOTFOUND' not contained in context.\n",
      "Example will not be converted for training/evaluation.\n",
      "Answer 'Location is central and right by tram stop. Clean, quiet, very comfortable room which was just as good as a lot of 5 star hotels I've stayed in (minus certain amenities such as shoe cleaner and toilet amenities....but no big deal). We seemed to make right choice by booking room only basis. Breakfast is $18 at the hotel but saw very few people eating there. In the area there are some great places for breakfast and at much cheaper prices. Front desk staff very helpful and polite. ANSWERNOTFOUND' not contained in context.\n",
      "Example will not be converted for training/evaluation.\n",
      "Answer 'The bedrooms were clean and decorated beautifully, the beds feel like you are sleeping on air, and the bathrooms were luxurious and stocked with great bath products. One bartender was outright rude, but everyone else (especially housekeeping and the concierge) was extremely nice and helpful. We got excellent recommendations on restaurants.Parking is outrageous ($46.50 per day) but we parked our car ourselves in the same garage the valets use (on Minna, one minute walk from the hotel) and paid $20 per day. It was definitely worth the expense to have our car to explore the city.I am in my late 20's but was there for a quiet vacation with my boyfriend. We enjoyed being away from the bustle of Union Square, and the walk helped with the great restaurants we tried out. The hotel is geared towards a younger crowd but we saw many older patrons who seemed to be enjoying themselves.I would highly recommend this hotel to anyone venturing to San Francisco. ANSWERNOTFOUND' not contained in context.\n",
      "Example will not be converted for training/evaluation.\n",
      "Unable to convert 3 samples to features. Their ids are : 291-0-0, 127-0-0, 92-0-0\n"
     ]
    },
    {
     "data": {
      "application/vnd.jupyter.widget-view+json": {
       "model_id": "5b684838b98d44bea8ad2f7b970fd6c3",
       "version_major": 2,
       "version_minor": 0
      },
      "text/plain": [
       "Preprocessing dataset:   0%|          | 0/1 [00:00<?, ? Dicts/s]"
      ]
     },
     "metadata": {},
     "output_type": "display_data"
    },
    {
     "name": "stderr",
     "output_type": "stream",
     "text": [
      "Answer 'The employees are attentive, friendly and provides excellent service. And the room is very clean with nice amenities. Strongly recommended for leisure or business stay. Cheers ANSWERNOTFOUND' not contained in context.\n",
      "Example will not be converted for training/evaluation.\n",
      "Unable to convert 4 samples to features. Their ids are : 291-0-0, 127-0-0, 225-0-0, 92-0-0\n"
     ]
    },
    {
     "data": {
      "application/vnd.jupyter.widget-view+json": {
       "model_id": "e9cce2709bc2428a8e9287f3e4426ab7",
       "version_major": 2,
       "version_minor": 0
      },
      "text/plain": [
       "Evaluating:   0%|          | 0/385 [00:00<?, ?it/s]"
      ]
     },
     "metadata": {},
     "output_type": "display_data"
    },
    {
     "data": {
      "application/vnd.jupyter.widget-view+json": {
       "model_id": "f9435d8b7a4f470e82d028c433ed831c",
       "version_major": 2,
       "version_minor": 0
      },
      "text/plain": [
       "Evaluating:   0%|          | 0/385 [00:00<?, ?it/s]"
      ]
     },
     "metadata": {},
     "output_type": "display_data"
    },
    {
     "data": {
      "application/vnd.jupyter.widget-view+json": {
       "model_id": "b3b59922f20d4d6689f3de38928b704c",
       "version_major": 2,
       "version_minor": 0
      },
      "text/plain": [
       "Evaluating:   0%|          | 0/385 [00:00<?, ?it/s]"
      ]
     },
     "metadata": {},
     "output_type": "display_data"
    }
   ],
   "source": [
    "reader_3.train(data_dir=\".\", use_gpu=True, n_epochs=1, batch_size=1,\n",
    "             train_filename=train_filename, dev_filename=dev_filename)"
   ]
  },
  {
   "cell_type": "code",
   "execution_count": 33,
   "metadata": {},
   "outputs": [],
   "source": [
    "# save the model\n",
    "reader_3.save(\"albert_squad_subjqa\")"
   ]
  },
  {
   "cell_type": "code",
   "execution_count": 70,
   "metadata": {},
   "outputs": [
    {
     "name": "stderr",
     "output_type": "stream",
     "text": [
      "Some unused parameters are passed to the QuestionAnsweringHead. Might not be a problem. Params: {\"training\": false, \"num_labels\": 2, \"ph_output_type\": \"per_token_squad\", \"model_type\": \"span_classification\", \"label_tensor_name\": \"question_answering_label_ids\", \"label_list\": [\"start_token\", \"end_token\"], \"metric\": \"squad\", \"name\": \"QuestionAnsweringHead\"}\n"
     ]
    }
   ],
   "source": [
    "# load the model \n",
    "reader_3 = FARMReader(\"albert_squad_subjqa\")"
   ]
  },
  {
   "cell_type": "code",
   "execution_count": null,
   "metadata": {},
   "outputs": [],
   "source": [
    "reader_eval_1[\"ALBERT Fine-tune on SQuAD + SubjQA\"] = evaluate_reader(reader_3)"
   ]
  },
  {
   "cell_type": "code",
   "execution_count": 72,
   "metadata": {},
   "outputs": [
    {
     "data": {
      "image/png": "[encoded data removed]",
      "text/plain": [
       "<Figure size 640x480 with 1 Axes>"
      ]
     },
     "metadata": {},
     "output_type": "display_data"
    }
   ],
   "source": [
    "plot_reader_eval(reader_eval_1)"
   ]
  },
  {
   "cell_type": "code",
   "execution_count": 73,
   "metadata": {},
   "outputs": [
    {
     "name": "stdout",
     "output_type": "stream",
     "text": [
      "{'MiniLM Fine-tune on SQuAD + SubjQA': {'exact_match': 0.3268765133171913, 'f1': 0.42767793478760124}, 'RoBERTa Fine-tune on SQuAD + SubjQA': {'exact_match': 0.324455205811138, 'f1': 0.41970906712111344}, 'ALBERT Fine-tune on SQuAD + SubjQA': {'exact_match': 0.3389830508474576, 'f1': 0.42962935058440627}}\n"
     ]
    }
   ],
   "source": [
    "print(reader_eval_1)"
   ]
  },
  {
   "attachments": {},
   "cell_type": "markdown",
   "metadata": {},
   "source": [
    "### SubjQA"
   ]
  },
  {
   "attachments": {},
   "cell_type": "markdown",
   "metadata": {},
   "source": [
    "MiniLM"
   ]
  },
  {
   "cell_type": "code",
   "execution_count": 35,
   "metadata": {},
   "outputs": [],
   "source": [
    "reader_eval_2 = {}"
   ]
  },
  {
   "cell_type": "code",
   "execution_count": 31,
   "metadata": {},
   "outputs": [
    {
     "name": "stderr",
     "output_type": "stream",
     "text": [
      "c:\\Users\\EzLaser\\anaconda3\\envs\\sohai\\lib\\site-packages\\torch\\_utils.py:776: UserWarning: TypedStorage is deprecated. It will be removed in the future and UntypedStorage will be the only storage class. This should only matter to you if you are using storages directly.  To access UntypedStorage directly, use tensor.untyped_storage() instead of tensor.storage()\n",
      "  return self.fget.__get__(instance, owner)()\n",
      "Some weights of BertForQuestionAnswering were not initialized from the model checkpoint at microsoft/MiniLM-L12-H384-uncased and are newly initialized: ['qa_outputs.weight', 'qa_outputs.bias']\n",
      "You should probably TRAIN this model on a down-stream task to be able to use it for predictions and inference.\n"
     ]
    }
   ],
   "source": [
    "minilm_ckpt = \"microsoft/MiniLM-L12-H384-uncased\"\n",
    "minilm_reader = FARMReader(model_name_or_path=minilm_ckpt, progress_bar=False,\n",
    "                           max_seq_len=max_seq_length, doc_stride=doc_stride,\n",
    "                           return_no_answer=True)"
   ]
  },
  {
   "cell_type": "code",
   "execution_count": 34,
   "metadata": {},
   "outputs": [
    {
     "data": {
      "application/vnd.jupyter.widget-view+json": {
       "model_id": "bfe2cff655454799981f39cd267ffac4",
       "version_major": 2,
       "version_minor": 0
      },
      "text/plain": [
       "Preprocessing dataset:   0%|          | 0/2 [00:00<?, ? Dicts/s]"
      ]
     },
     "metadata": {},
     "output_type": "display_data"
    },
    {
     "name": "stderr",
     "output_type": "stream",
     "text": [
      "Answer 'The staff were fantastic, the rooms were nice and the location was perfect for us. We were half a block from the Cable Car line (Powell St), a short walk to 24hr convienience stores/Starbucks and Union square and just a short stroll to shopping, great bars/restaurants (including Andrees). There was free internet access which was great for overseas guests, complimentary wine tasting every night in the bar and a cab ride to Fishermans Wharf was around $8. Chinatown was a short cab ride, so too is AT&amp;T Park for a Giants game. The only low light of SF was the amount of homeless people preying on you everytime you stop or pass them for money and the weather was unpredictable (not the Hotel Rexs' fault).Thumbs up from Oz ANSWERNOTFOUND' not contained in context.\n",
      "Example will not be converted for training/evaluation.\n",
      "Answer 'The hotel is in a great location in the financial district. We took the BART between SFO and the hotel. At $5.35 per person one way, it is more economical than a cab. The BART station is only a few blocks away in the Embarcadero area. Also, the hotel is within blocks of lots of MUNI bus and train lines so travel is convenient. In fact, I would discourage renting a car unless necessary since valet parking is $50 + taxes per night. The pillowtop bed is incredibly comfortable. I usually don't sleep well in hotels but the Le Meridien bed is an exception. Also, the hotel was extremely quiet. Our room was very close to the elevators but I did not hear people in the hallway or in the rooms next door. The lady at the concierge desk is amazing. I swear she is a human GPS. She'll give awesome recommendations for restaurants.Check-out was easy with no surprises. Overall, this upscale hotel is highly recommended and its location is hard to beat. ANSWERNOTFOUND' not contained in context.\n",
      "Example will not be converted for training/evaluation.\n",
      "Answer 'Location is central and right by tram stop. Clean, quiet, very comfortable room which was just as good as a lot of 5 star hotels I've stayed in (minus certain amenities such as shoe cleaner and toilet amenities....but no big deal). We seemed to make right choice by booking room only basis. Breakfast is $18 at the hotel but saw very few people eating there. In the area there are some great places for breakfast and at much cheaper prices. Front desk staff very helpful and polite. ANSWERNOTFOUND' not contained in context.\n",
      "Example will not be converted for training/evaluation.\n",
      "Answer 'The bedrooms were clean and decorated beautifully, the beds feel like you are sleeping on air, and the bathrooms were luxurious and stocked with great bath products. One bartender was outright rude, but everyone else (especially housekeeping and the concierge) was extremely nice and helpful. We got excellent recommendations on restaurants.Parking is outrageous ($46.50 per day) but we parked our car ourselves in the same garage the valets use (on Minna, one minute walk from the hotel) and paid $20 per day. It was definitely worth the expense to have our car to explore the city.I am in my late 20's but was there for a quiet vacation with my boyfriend. We enjoyed being away from the bustle of Union Square, and the walk helped with the great restaurants we tried out. The hotel is geared towards a younger crowd but we saw many older patrons who seemed to be enjoying themselves.I would highly recommend this hotel to anyone venturing to San Francisco. ANSWERNOTFOUND' not contained in context.\n",
      "Example will not be converted for training/evaluation.\n",
      "Unable to convert 4 samples to features. Their ids are : 398-0-0, 127-0-0, 92-0-0, 291-0-0\n"
     ]
    },
    {
     "data": {
      "application/vnd.jupyter.widget-view+json": {
       "model_id": "eb37fd8bc9584607a09fb1b1c6cdfa9a",
       "version_major": 2,
       "version_minor": 0
      },
      "text/plain": [
       "Preprocessing dataset:   0%|          | 0/1 [00:00<?, ? Dicts/s]"
      ]
     },
     "metadata": {},
     "output_type": "display_data"
    },
    {
     "name": "stderr",
     "output_type": "stream",
     "text": [
      "Answer 'The employees are attentive, friendly and provides excellent service. And the room is very clean with nice amenities. Strongly recommended for leisure or business stay. Cheers ANSWERNOTFOUND' not contained in context.\n",
      "Example will not be converted for training/evaluation.\n",
      "Unable to convert 5 samples to features. Their ids are : 398-0-0, 225-0-0, 127-0-0, 92-0-0, 291-0-0\n"
     ]
    },
    {
     "data": {
      "application/vnd.jupyter.widget-view+json": {
       "model_id": "8458a7ad1e474844a9d246cd3f3c3d28",
       "version_major": 2,
       "version_minor": 0
      },
      "text/plain": [
       "Evaluating:   0%|          | 0/299 [00:00<?, ?it/s]"
      ]
     },
     "metadata": {},
     "output_type": "display_data"
    },
    {
     "data": {
      "application/vnd.jupyter.widget-view+json": {
       "model_id": "666e277f4aa14aa5b9b1ed599b76311c",
       "version_major": 2,
       "version_minor": 0
      },
      "text/plain": [
       "Evaluating:   0%|          | 0/299 [00:00<?, ?it/s]"
      ]
     },
     "metadata": {},
     "output_type": "display_data"
    }
   ],
   "source": [
    "minilm_reader.train(data_dir=\".\", use_gpu=True, n_epochs=1, batch_size=1,\n",
    "             train_filename=train_filename, dev_filename=dev_filename)"
   ]
  },
  {
   "cell_type": "code",
   "execution_count": 35,
   "metadata": {},
   "outputs": [],
   "source": [
    "# save the model \n",
    "minilm_reader.save(\"minilm_subjqa\")"
   ]
  },
  {
   "cell_type": "code",
   "execution_count": null,
   "metadata": {},
   "outputs": [],
   "source": [
    "# load the model\n",
    "minilm_reader = FARMReader(\"minilm_subjqa\")"
   ]
  },
  {
   "cell_type": "code",
   "execution_count": 38,
   "metadata": {},
   "outputs": [],
   "source": [
    "reader_eval_2[\"MiniLM Fine-tune on SubjQA\"] = evaluate_reader(minilm_reader)"
   ]
  },
  {
   "cell_type": "code",
   "execution_count": 39,
   "metadata": {},
   "outputs": [
    {
     "data": {
      "image/png": "[encoded data removed]",
      "text/plain": [
       "<Figure size 640x480 with 1 Axes>"
      ]
     },
     "metadata": {},
     "output_type": "display_data"
    }
   ],
   "source": [
    "plot_reader_eval(reader_eval_2)"
   ]
  },
  {
   "attachments": {},
   "cell_type": "markdown",
   "metadata": {},
   "source": [
    "RoBERTa"
   ]
  },
  {
   "cell_type": "code",
   "execution_count": 39,
   "metadata": {},
   "outputs": [
    {
     "name": "stderr",
     "output_type": "stream",
     "text": [
      "Some weights of the model checkpoint at roberta-base were not used when initializing RobertaForQuestionAnswering: ['lm_head.layer_norm.bias', 'lm_head.dense.weight', 'lm_head.bias', 'lm_head.decoder.weight', 'lm_head.dense.bias', 'lm_head.layer_norm.weight']\n",
      "- This IS expected if you are initializing RobertaForQuestionAnswering from the checkpoint of a model trained on another task or with another architecture (e.g. initializing a BertForSequenceClassification model from a BertForPreTraining model).\n",
      "- This IS NOT expected if you are initializing RobertaForQuestionAnswering from the checkpoint of a model that you expect to be exactly identical (initializing a BertForSequenceClassification model from a BertForSequenceClassification model).\n",
      "Some weights of RobertaForQuestionAnswering were not initialized from the model checkpoint at roberta-base and are newly initialized: ['qa_outputs.weight', 'qa_outputs.bias']\n",
      "You should probably TRAIN this model on a down-stream task to be able to use it for predictions and inference.\n"
     ]
    }
   ],
   "source": [
    "roberta_ckpt = \"roberta-base\"\n",
    "roberta_reader = FARMReader(model_name_or_path=roberta_ckpt, use_gpu=True, progress_bar=False)"
   ]
  },
  {
   "cell_type": "code",
   "execution_count": 40,
   "metadata": {},
   "outputs": [
    {
     "data": {
      "application/vnd.jupyter.widget-view+json": {
       "model_id": "76081db596ff42daadeba18273415e22",
       "version_major": 2,
       "version_minor": 0
      },
      "text/plain": [
       "Preprocessing dataset:   0%|          | 0/2 [00:00<?, ? Dicts/s]"
      ]
     },
     "metadata": {},
     "output_type": "display_data"
    },
    {
     "name": "stderr",
     "output_type": "stream",
     "text": [
      "Answer 'The staff were fantastic, the rooms were nice and the location was perfect for us. We were half a block from the Cable Car line (Powell St), a short walk to 24hr convienience stores/Starbucks and Union square and just a short stroll to shopping, great bars/restaurants (including Andrees). There was free internet access which was great for overseas guests, complimentary wine tasting every night in the bar and a cab ride to Fishermans Wharf was around $8. Chinatown was a short cab ride, so too is AT&amp;T Park for a Giants game. The only low light of SF was the amount of homeless people preying on you everytime you stop or pass them for money and the weather was unpredictable (not the Hotel Rexs' fault).Thumbs up from Oz ANSWERNOTFOUND' not contained in context.\n",
      "Example will not be converted for training/evaluation.\n",
      "Answer 'Location is central and right by tram stop. Clean, quiet, very comfortable room which was just as good as a lot of 5 star hotels I've stayed in (minus certain amenities such as shoe cleaner and toilet amenities....but no big deal). We seemed to make right choice by booking room only basis. Breakfast is $18 at the hotel but saw very few people eating there. In the area there are some great places for breakfast and at much cheaper prices. Front desk staff very helpful and polite. ANSWERNOTFOUND' not contained in context.\n",
      "Example will not be converted for training/evaluation.\n",
      "Answer 'The bedrooms were clean and decorated beautifully, the beds feel like you are sleeping on air, and the bathrooms were luxurious and stocked with great bath products. One bartender was outright rude, but everyone else (especially housekeeping and the concierge) was extremely nice and helpful. We got excellent recommendations on restaurants.Parking is outrageous ($46.50 per day) but we parked our car ourselves in the same garage the valets use (on Minna, one minute walk from the hotel) and paid $20 per day. It was definitely worth the expense to have our car to explore the city.I am in my late 20's but was there for a quiet vacation with my boyfriend. We enjoyed being away from the bustle of Union Square, and the walk helped with the great restaurants we tried out. The hotel is geared towards a younger crowd but we saw many older patrons who seemed to be enjoying themselves.I would highly recommend this hotel to anyone venturing to San Francisco. ANSWERNOTFOUND' not contained in context.\n",
      "Example will not be converted for training/evaluation.\n",
      "Unable to convert 3 samples to features. Their ids are : 92-0-0, 127-0-0, 291-0-0\n"
     ]
    },
    {
     "data": {
      "application/vnd.jupyter.widget-view+json": {
       "model_id": "cba4c7ffb5344d08a9e6eaefdef80cc9",
       "version_major": 2,
       "version_minor": 0
      },
      "text/plain": [
       "Preprocessing dataset:   0%|          | 0/1 [00:00<?, ? Dicts/s]"
      ]
     },
     "metadata": {},
     "output_type": "display_data"
    },
    {
     "name": "stderr",
     "output_type": "stream",
     "text": [
      "Answer 'The employees are attentive, friendly and provides excellent service. And the room is very clean with nice amenities. Strongly recommended for leisure or business stay. Cheers ANSWERNOTFOUND' not contained in context.\n",
      "Example will not be converted for training/evaluation.\n",
      "Unable to convert 4 samples to features. Their ids are : 92-0-0, 225-0-0, 127-0-0, 291-0-0\n"
     ]
    },
    {
     "data": {
      "application/vnd.jupyter.widget-view+json": {
       "model_id": "502b2da6865b4e5086f869da634ca0a2",
       "version_major": 2,
       "version_minor": 0
      },
      "text/plain": [
       "Evaluating:   0%|          | 0/377 [00:00<?, ?it/s]"
      ]
     },
     "metadata": {},
     "output_type": "display_data"
    },
    {
     "data": {
      "application/vnd.jupyter.widget-view+json": {
       "model_id": "e0513a98d00042f7848583d59e6016bf",
       "version_major": 2,
       "version_minor": 0
      },
      "text/plain": [
       "Evaluating:   0%|          | 0/377 [00:00<?, ?it/s]"
      ]
     },
     "metadata": {},
     "output_type": "display_data"
    },
    {
     "data": {
      "application/vnd.jupyter.widget-view+json": {
       "model_id": "13a50ae4498241928e6ffe48c43026ef",
       "version_major": 2,
       "version_minor": 0
      },
      "text/plain": [
       "Evaluating:   0%|          | 0/377 [00:00<?, ?it/s]"
      ]
     },
     "metadata": {},
     "output_type": "display_data"
    }
   ],
   "source": [
    "roberta_reader.train(data_dir=\".\", use_gpu=True, n_epochs=1, batch_size=1,\n",
    "             train_filename=train_filename, dev_filename=dev_filename)"
   ]
  },
  {
   "cell_type": "code",
   "execution_count": 41,
   "metadata": {},
   "outputs": [],
   "source": [
    "# save the model\n",
    "roberta_reader.save(\"roberta_subjqa\")"
   ]
  },
  {
   "cell_type": "code",
   "execution_count": null,
   "metadata": {},
   "outputs": [],
   "source": [
    "# load the model \n",
    "roberta_reader = FARMReader(\"roberta_subjqa\")"
   ]
  },
  {
   "cell_type": "code",
   "execution_count": 42,
   "metadata": {},
   "outputs": [],
   "source": [
    "reader_eval_2[\"RoBERTa Fine-tune on SubjQA\"] = evaluate_reader(roberta_reader)"
   ]
  },
  {
   "cell_type": "code",
   "execution_count": 45,
   "metadata": {},
   "outputs": [
    {
     "data": {
      "image/png": "[encoded data removed]",
      "text/plain": [
       "<Figure size 640x480 with 1 Axes>"
      ]
     },
     "metadata": {},
     "output_type": "display_data"
    }
   ],
   "source": [
    "plot_reader_eval(reader_eval_2)"
   ]
  },
  {
   "cell_type": "code",
   "execution_count": 46,
   "metadata": {},
   "outputs": [
    {
     "name": "stdout",
     "output_type": "stream",
     "text": [
      "{'MiniLM Fine-tune on SubjQA': {'exact_match': 0.38498789346246975, 'f1': 0.38498789346246975}, 'RoBERTa Fine-tune on SubjQA': {'exact_match': 0.3075060532687651, 'f1': 0.4087180273901269}}\n"
     ]
    }
   ],
   "source": [
    "print(reader_eval_2)"
   ]
  },
  {
   "attachments": {},
   "cell_type": "markdown",
   "metadata": {},
   "source": [
    "ALBERT"
   ]
  },
  {
   "cell_type": "code",
   "execution_count": 27,
   "metadata": {},
   "outputs": [
    {
     "name": "stderr",
     "output_type": "stream",
     "text": [
      "c:\\Users\\EzLaser\\anaconda3\\envs\\sohai\\lib\\site-packages\\torch\\_utils.py:776: UserWarning: TypedStorage is deprecated. It will be removed in the future and UntypedStorage will be the only storage class. This should only matter to you if you are using storages directly.  To access UntypedStorage directly, use tensor.untyped_storage() instead of tensor.storage()\n",
      "  return self.fget.__get__(instance, owner)()\n",
      "Some weights of the model checkpoint at albert-xxlarge-v1 were not used when initializing AlbertForQuestionAnswering: ['predictions.dense.bias', 'predictions.dense.weight', 'predictions.decoder.bias', 'predictions.LayerNorm.bias', 'predictions.LayerNorm.weight', 'predictions.bias', 'predictions.decoder.weight']\n",
      "- This IS expected if you are initializing AlbertForQuestionAnswering from the checkpoint of a model trained on another task or with another architecture (e.g. initializing a BertForSequenceClassification model from a BertForPreTraining model).\n",
      "- This IS NOT expected if you are initializing AlbertForQuestionAnswering from the checkpoint of a model that you expect to be exactly identical (initializing a BertForSequenceClassification model from a BertForSequenceClassification model).\n",
      "Some weights of AlbertForQuestionAnswering were not initialized from the model checkpoint at albert-xxlarge-v1 and are newly initialized: ['qa_outputs.weight', 'qa_outputs.bias']\n",
      "You should probably TRAIN this model on a down-stream task to be able to use it for predictions and inference.\n"
     ]
    }
   ],
   "source": [
    "albert_ckpt = \"albert-xxlarge-v1\"\n",
    "albert_reader = FARMReader(model_name_or_path=albert_ckpt, use_gpu=True, progress_bar=False)"
   ]
  },
  {
   "cell_type": "code",
   "execution_count": 30,
   "metadata": {},
   "outputs": [
    {
     "data": {
      "application/vnd.jupyter.widget-view+json": {
       "model_id": "4fc63176134c410da705242895feec42",
       "version_major": 2,
       "version_minor": 0
      },
      "text/plain": [
       "Preprocessing dataset:   0%|          | 0/2 [00:00<?, ? Dicts/s]"
      ]
     },
     "metadata": {},
     "output_type": "display_data"
    },
    {
     "name": "stderr",
     "output_type": "stream",
     "text": [
      "Answer 'The staff were fantastic, the rooms were nice and the location was perfect for us. We were half a block from the Cable Car line (Powell St), a short walk to 24hr convienience stores/Starbucks and Union square and just a short stroll to shopping, great bars/restaurants (including Andrees). There was free internet access which was great for overseas guests, complimentary wine tasting every night in the bar and a cab ride to Fishermans Wharf was around $8. Chinatown was a short cab ride, so too is AT&amp;T Park for a Giants game. The only low light of SF was the amount of homeless people preying on you everytime you stop or pass them for money and the weather was unpredictable (not the Hotel Rexs' fault).Thumbs up from Oz ANSWERNOTFOUND' not contained in context.\n",
      "Example will not be converted for training/evaluation.\n",
      "Answer 'Location is central and right by tram stop. Clean, quiet, very comfortable room which was just as good as a lot of 5 star hotels I've stayed in (minus certain amenities such as shoe cleaner and toilet amenities....but no big deal). We seemed to make right choice by booking room only basis. Breakfast is $18 at the hotel but saw very few people eating there. In the area there are some great places for breakfast and at much cheaper prices. Front desk staff very helpful and polite. ANSWERNOTFOUND' not contained in context.\n",
      "Example will not be converted for training/evaluation.\n",
      "Answer 'The bedrooms were clean and decorated beautifully, the beds feel like you are sleeping on air, and the bathrooms were luxurious and stocked with great bath products. One bartender was outright rude, but everyone else (especially housekeeping and the concierge) was extremely nice and helpful. We got excellent recommendations on restaurants.Parking is outrageous ($46.50 per day) but we parked our car ourselves in the same garage the valets use (on Minna, one minute walk from the hotel) and paid $20 per day. It was definitely worth the expense to have our car to explore the city.I am in my late 20's but was there for a quiet vacation with my boyfriend. We enjoyed being away from the bustle of Union Square, and the walk helped with the great restaurants we tried out. The hotel is geared towards a younger crowd but we saw many older patrons who seemed to be enjoying themselves.I would highly recommend this hotel to anyone venturing to San Francisco. ANSWERNOTFOUND' not contained in context.\n",
      "Example will not be converted for training/evaluation.\n",
      "Unable to convert 3 samples to features. Their ids are : 127-0-0, 291-0-0, 92-0-0\n"
     ]
    },
    {
     "data": {
      "application/vnd.jupyter.widget-view+json": {
       "model_id": "2d62b670255d4f148b428ea0b0039391",
       "version_major": 2,
       "version_minor": 0
      },
      "text/plain": [
       "Preprocessing dataset:   0%|          | 0/1 [00:00<?, ? Dicts/s]"
      ]
     },
     "metadata": {},
     "output_type": "display_data"
    },
    {
     "name": "stderr",
     "output_type": "stream",
     "text": [
      "Answer 'The employees are attentive, friendly and provides excellent service. And the room is very clean with nice amenities. Strongly recommended for leisure or business stay. Cheers ANSWERNOTFOUND' not contained in context.\n",
      "Example will not be converted for training/evaluation.\n",
      "Unable to convert 4 samples to features. Their ids are : 127-0-0, 225-0-0, 291-0-0, 92-0-0\n"
     ]
    },
    {
     "data": {
      "application/vnd.jupyter.widget-view+json": {
       "model_id": "614cae2684b24f85a475567918aeda37",
       "version_major": 2,
       "version_minor": 0
      },
      "text/plain": [
       "Evaluating:   0%|          | 0/385 [00:00<?, ?it/s]"
      ]
     },
     "metadata": {},
     "output_type": "display_data"
    },
    {
     "data": {
      "application/vnd.jupyter.widget-view+json": {
       "model_id": "f3cd61c702bf4271bae32213762c648f",
       "version_major": 2,
       "version_minor": 0
      },
      "text/plain": [
       "Evaluating:   0%|          | 0/385 [00:00<?, ?it/s]"
      ]
     },
     "metadata": {},
     "output_type": "display_data"
    },
    {
     "data": {
      "application/vnd.jupyter.widget-view+json": {
       "model_id": "05ed3c6e343843f5bfbad130167e33ca",
       "version_major": 2,
       "version_minor": 0
      },
      "text/plain": [
       "Evaluating:   0%|          | 0/385 [00:00<?, ?it/s]"
      ]
     },
     "metadata": {},
     "output_type": "display_data"
    }
   ],
   "source": [
    "albert_reader.train(data_dir=\".\", use_gpu=True, n_epochs=1, batch_size=1,\n",
    "             train_filename=train_filename, dev_filename=dev_filename)"
   ]
  },
  {
   "cell_type": "code",
   "execution_count": 31,
   "metadata": {},
   "outputs": [],
   "source": [
    "# save the model\n",
    "albert_reader.save(\"albert_subjqa\")"
   ]
  },
  {
   "cell_type": "code",
   "execution_count": null,
   "metadata": {},
   "outputs": [],
   "source": [
    "# load the model\n",
    "albert_reader = FARMReader(\"albert_subjqa\")"
   ]
  },
  {
   "cell_type": "code",
   "execution_count": 37,
   "metadata": {},
   "outputs": [],
   "source": [
    "reader_eval_2[\"ALBERT Fine-tune on SubjQA\"] = evaluate_reader(albert_reader)"
   ]
  },
  {
   "cell_type": "code",
   "execution_count": null,
   "metadata": {},
   "outputs": [
    {
     "data": {
      "image/png": "[encoded data removed]",
      "text/plain": [
       "<Figure size 640x480 with 1 Axes>"
      ]
     },
     "metadata": {},
     "output_type": "display_data"
    }
   ],
   "source": [
    "plot_reader_eval(reader_eval_2)"
   ]
  },
  {
   "cell_type": "code",
   "execution_count": 38,
   "metadata": {},
   "outputs": [
    {
     "name": "stdout",
     "output_type": "stream",
     "text": [
      "{'ALBERT Fine-tune on SubjQA': {'exact_match': 0.2857142857142857, 'f1': 0.39756349611114095}}\n"
     ]
    }
   ],
   "source": [
    "print(reader_eval_2)"
   ]
  },
  {
   "attachments": {},
   "cell_type": "markdown",
   "metadata": {},
   "source": [
    "## Evaluating the Whole QA Pipeline (BM25 + Reader)"
   ]
  },
  {
   "attachments": {},
   "cell_type": "markdown",
   "metadata": {},
   "source": [
    "MiniLM"
   ]
  },
  {
   "cell_type": "code",
   "execution_count": null,
   "metadata": {},
   "outputs": [],
   "source": [
    "reader_1 = FARMReader(\"minilm_squad_subjqa\")"
   ]
  },
  {
   "cell_type": "code",
   "execution_count": null,
   "metadata": {},
   "outputs": [],
   "source": [
    "pipe = ExtractiveQAPipeline(retriever=BM25_retriever, reader=reader_1)\n",
    "\n",
    "# Evaluate!\n",
    "eval_result = pipe.eval(\n",
    "    labels=labels_agg,\n",
    "    params={},\n",
    ")\n",
    "metrics = eval_result.calculate_metrics(simulated_top_k_reader=1)\n",
    "# Extract metrics from reader\n",
    "reader_eval_1[\"QA Pipeline MiniLM (top-1)\"] = {\n",
    "    k:v for k,v in metrics[\"Reader\"].items()\n",
    "    if k in [\"exact_match\", \"f1\"]}"
   ]
  },
  {
   "attachments": {},
   "cell_type": "markdown",
   "metadata": {},
   "source": [
    "RoBERTa"
   ]
  },
  {
   "cell_type": "code",
   "execution_count": null,
   "metadata": {},
   "outputs": [],
   "source": [
    "reader_2 = FARMReader(\"roberta_squad_subjqa\")"
   ]
  },
  {
   "cell_type": "code",
   "execution_count": null,
   "metadata": {},
   "outputs": [],
   "source": [
    "pipe = ExtractiveQAPipeline(retriever=BM25_retriever, reader=reader_2)\n",
    "\n",
    "# Evaluate!\n",
    "eval_result = pipe.eval(\n",
    "    labels=labels_agg,\n",
    "    params={},\n",
    ")\n",
    "metrics = eval_result.calculate_metrics(simulated_top_k_reader=1)\n",
    "# Extract metrics from reader\n",
    "reader_eval_1[\"QA Pipeline RoBERTa (top-1)\"] = {\n",
    "    k:v for k,v in metrics[\"Reader\"].items()\n",
    "    if k in [\"exact_match\", \"f1\"]}"
   ]
  },
  {
   "attachments": {},
   "cell_type": "markdown",
   "metadata": {},
   "source": [
    "ALBERT"
   ]
  },
  {
   "cell_type": "code",
   "execution_count": null,
   "metadata": {},
   "outputs": [],
   "source": [
    "reader_3 = FARMReader(\"albert_squad_subjqa\")"
   ]
  },
  {
   "cell_type": "code",
   "execution_count": null,
   "metadata": {},
   "outputs": [],
   "source": [
    "pipe = ExtractiveQAPipeline(retriever=BM25_retriever, reader=reader_3)\n",
    "\n",
    "# Evaluate!\n",
    "eval_result = pipe.eval(\n",
    "    labels=labels_agg,\n",
    "    params={},\n",
    ")\n",
    "metrics = eval_result.calculate_metrics(simulated_top_k_reader=1)\n",
    "# Extract metrics from reader\n",
    "reader_eval_1[\"QA Pipeline ALBERT (top-1)\"] = {\n",
    "    k:v for k,v in metrics[\"Reader\"].items()\n",
    "    if k in [\"exact_match\", \"f1\"]}"
   ]
  },
  {
   "attachments": {},
   "cell_type": "markdown",
   "metadata": {},
   "source": [
    "Plot the bar chart for comparison"
   ]
  },
  {
   "cell_type": "code",
   "execution_count": 46,
   "metadata": {},
   "outputs": [
    {
     "data": {
      "image/png": "[encoded data removed]",
      "text/plain": [
       "<Figure size 640x480 with 1 Axes>"
      ]
     },
     "metadata": {},
     "output_type": "display_data"
    }
   ],
   "source": [
    "#id reader-vs-pipeline\n",
    "#caption Comparison of EM and _F_~1~ scores for the reader against the whole QA pipeline\n",
    "plot_reader_eval({\"Reader (MiniLM)\": reader_eval_1[\"MiniLM Fine-tune on SQuAD + SubjQA\"], \n",
    "                  \"QA pipeline MiniLM (top-1)\": reader_eval_1[\"QA Pipeline MiniLM (top-1)\"],\n",
    "                  \"Reader (RoBERTa)\": reader_eval_1[\"RoBERTa Fine-tune on SQuAD + SubjQA\"], \n",
    "                  \"QA pipeline RoBERTa (top-1)\": reader_eval_1[\"QA Pipeline RoBERTa (top-1)\"],\n",
    "                  \"Reader (ALBERT)\": reader_eval_1[\"ALBERT Fine-tune on SQuAD + SubjQA\"], \n",
    "                  \"QA pipeline ALBERT (top-1)\": reader_eval_1[\"QA Pipeline ALBERT (top-1)\"]})\n",
    "     "
   ]
  },
  {
   "cell_type": "code",
   "execution_count": 47,
   "metadata": {},
   "outputs": [
    {
     "name": "stdout",
     "output_type": "stream",
     "text": [
      "{'Reader (MiniLM)': {'exact_match': 0.3268765133171913, 'f1': 0.42767793478760124}, 'QA pipeline MiniLM (top-1)': {'exact_match': 0.10653753026634383, 'f1': 0.2462874528801869}, 'Reader (RoBERTa)': {'exact_match': 0.324455205811138, 'f1': 0.41970906712111344}, 'QA pipeline RoBERTa (top-1)': {'exact_match': 0.09685230024213075, 'f1': 0.2307522003768195}, 'Reader (ALBERT)': {'exact_match': 0.3389830508474576, 'f1': 0.42962935058440627}, 'QA pipeline ALBERT (top-1)': {'exact_match': 0.10653753026634383, 'f1': 0.23810162453226746}}\n"
     ]
    }
   ],
   "source": [
    "print({\"Reader (MiniLM)\": reader_eval_1[\"MiniLM Fine-tune on SQuAD + SubjQA\"], \n",
    "                  \"QA pipeline MiniLM (top-1)\": reader_eval_1[\"QA Pipeline MiniLM (top-1)\"],\n",
    "                  \"Reader (RoBERTa)\": reader_eval_1[\"RoBERTa Fine-tune on SQuAD + SubjQA\"], \n",
    "                  \"QA pipeline RoBERTa (top-1)\": reader_eval_1[\"QA Pipeline RoBERTa (top-1)\"],\n",
    "                  \"Reader (ALBERT)\": reader_eval_1[\"ALBERT Fine-tune on SQuAD + SubjQA\"], \n",
    "                  \"QA pipeline ALBERT (top-1)\": reader_eval_1[\"QA Pipeline ALBERT (top-1)\"]})"
   ]
  },
  {
   "attachments": {},
   "cell_type": "markdown",
   "metadata": {},
   "source": [
    "## Evaluating the Whole QA Pipeline (DPR + Reader)"
   ]
  },
  {
   "attachments": {},
   "cell_type": "markdown",
   "metadata": {},
   "source": [
    "MiniLM"
   ]
  },
  {
   "cell_type": "code",
   "execution_count": 61,
   "metadata": {},
   "outputs": [
    {
     "name": "stderr",
     "output_type": "stream",
     "text": [
      "Some unused parameters are passed to the QuestionAnsweringHead. Might not be a problem. Params: {\"training\": true, \"num_labels\": 2, \"ph_output_type\": \"per_token_squad\", \"model_type\": \"span_classification\", \"label_tensor_name\": \"question_answering_label_ids\", \"label_list\": [\"start_token\", \"end_token\"], \"metric\": \"squad\", \"name\": \"QuestionAnsweringHead\"}\n"
     ]
    }
   ],
   "source": [
    "reader_1 = FARMReader(\"minilm_squad_subjqa\")"
   ]
  },
  {
   "cell_type": "code",
   "execution_count": null,
   "metadata": {},
   "outputs": [],
   "source": [
    "pipe = ExtractiveQAPipeline(retriever=dpr_retriever, reader=reader_1)\n",
    "\n",
    "# Evaluate!\n",
    "eval_result = pipe.eval(\n",
    "    labels=labels_agg,\n",
    "    params={},\n",
    ")\n",
    "metrics = eval_result.calculate_metrics(simulated_top_k_reader=1)\n",
    "# Extract metrics from reader\n",
    "reader_eval_1[\"QA Pipeline MiniLM (top-1)\"] = {\n",
    "    k:v for k,v in metrics[\"Reader\"].items()\n",
    "    if k in [\"exact_match\", \"f1\"]}"
   ]
  },
  {
   "attachments": {},
   "cell_type": "markdown",
   "metadata": {},
   "source": [
    "RoBERTa"
   ]
  },
  {
   "cell_type": "code",
   "execution_count": null,
   "metadata": {},
   "outputs": [],
   "source": [
    "reader_2 = FARMReader(\"roberta_squad_subjqa\")"
   ]
  },
  {
   "cell_type": "code",
   "execution_count": null,
   "metadata": {},
   "outputs": [],
   "source": [
    "pipe = ExtractiveQAPipeline(retriever=dpr_retriever, reader=reader_2)\n",
    "\n",
    "# Evaluate!\n",
    "eval_result = pipe.eval(\n",
    "    labels=labels_agg,\n",
    "    params={},\n",
    ")\n",
    "metrics = eval_result.calculate_metrics(simulated_top_k_reader=1)\n",
    "# Extract metrics from reader\n",
    "reader_eval_1[\"QA Pipeline RoBERTa (top-1)\"] = {\n",
    "    k:v for k,v in metrics[\"Reader\"].items()\n",
    "    if k in [\"exact_match\", \"f1\"]}"
   ]
  },
  {
   "attachments": {},
   "cell_type": "markdown",
   "metadata": {},
   "source": [
    "ALBERT"
   ]
  },
  {
   "cell_type": "code",
   "execution_count": null,
   "metadata": {},
   "outputs": [],
   "source": [
    "reader_3 = FARMReader(\"albert_squad_subjqa\")"
   ]
  },
  {
   "cell_type": "code",
   "execution_count": null,
   "metadata": {},
   "outputs": [],
   "source": [
    "pipe = ExtractiveQAPipeline(retriever=dpr_retriever, reader=reader_3)\n",
    "\n",
    "# Evaluate!\n",
    "eval_result = pipe.eval(\n",
    "    labels=labels_agg,\n",
    "    params={},\n",
    ")\n",
    "metrics = eval_result.calculate_metrics(simulated_top_k_reader=1)\n",
    "# Extract metrics from reader\n",
    "reader_eval_1[\"QA Pipeline ALBERT (top-1)\"] = {\n",
    "    k:v for k,v in metrics[\"Reader\"].items()\n",
    "    if k in [\"exact_match\", \"f1\"]}"
   ]
  },
  {
   "attachments": {},
   "cell_type": "markdown",
   "metadata": {},
   "source": [
    "Plot the bar chart for comparison"
   ]
  },
  {
   "cell_type": "code",
   "execution_count": 77,
   "metadata": {},
   "outputs": [
    {
     "data": {
      "image/png": "[encoded data removed]",
      "text/plain": [
       "<Figure size 640x480 with 1 Axes>"
      ]
     },
     "metadata": {},
     "output_type": "display_data"
    }
   ],
   "source": [
    "#id reader-vs-pipeline\n",
    "#caption Comparison of EM and _F_~1~ scores for the reader against the whole QA pipeline\n",
    "plot_reader_eval({\"Reader (MiniLM)\": reader_eval_1[\"MiniLM Fine-tune on SQuAD + SubjQA\"], \n",
    "                  \"QA pipeline MiniLM (top-1)\": reader_eval_1[\"QA Pipeline MiniLM (top-1)\"],\n",
    "                  \"Reader (RoBERTa)\": reader_eval_1[\"RoBERTa Fine-tune on SQuAD + SubjQA\"], \n",
    "                  \"QA pipeline RoBERTa (top-1)\": reader_eval_1[\"QA Pipeline RoBERTa (top-1)\"],\n",
    "                  \"Reader (ALBERT)\": reader_eval_1[\"ALBERT Fine-tune on SQuAD + SubjQA\"], \n",
    "                  \"QA pipeline ALBERT (top-1)\": reader_eval_1[\"QA Pipeline ALBERT (top-1)\"]})\n",
    "     "
   ]
  },
  {
   "cell_type": "code",
   "execution_count": 78,
   "metadata": {},
   "outputs": [
    {
     "name": "stdout",
     "output_type": "stream",
     "text": [
      "{'Reader (MiniLM)': {'exact_match': 0.3268765133171913, 'f1': 0.42767793478760124}, 'QA pipeline MiniLM (top-1)': {'exact_match': 0.12106537530266344, 'f1': 0.2562197301630652}, 'Reader (RoBERTa)': {'exact_match': 0.324455205811138, 'f1': 0.41970906712111344}, 'QA pipeline RoBERTa (top-1)': {'exact_match': 0.13801452784503632, 'f1': 0.26349773809510485}, 'Reader (ALBERT)': {'exact_match': 0.3389830508474576, 'f1': 0.42962935058440627}, 'QA pipeline ALBERT (top-1)': {'exact_match': 0.162227602905569, 'f1': 0.28090820253621}}\n"
     ]
    }
   ],
   "source": [
    "print({\"Reader (MiniLM)\": reader_eval_1[\"MiniLM Fine-tune on SQuAD + SubjQA\"], \n",
    "                  \"QA pipeline MiniLM (top-1)\": reader_eval_1[\"QA Pipeline MiniLM (top-1)\"],\n",
    "                  \"Reader (RoBERTa)\": reader_eval_1[\"RoBERTa Fine-tune on SQuAD + SubjQA\"], \n",
    "                  \"QA pipeline RoBERTa (top-1)\": reader_eval_1[\"QA Pipeline RoBERTa (top-1)\"],\n",
    "                  \"Reader (ALBERT)\": reader_eval_1[\"ALBERT Fine-tune on SQuAD + SubjQA\"], \n",
    "                  \"QA pipeline ALBERT (top-1)\": reader_eval_1[\"QA Pipeline ALBERT (top-1)\"]})"
   ]
  },
  {
   "attachments": {},
   "cell_type": "markdown",
   "metadata": {},
   "source": [
    "## Generator"
   ]
  },
  {
   "attachments": {},
   "cell_type": "markdown",
   "metadata": {},
   "source": [
    "### Initializing the PromptNode"
   ]
  },
  {
   "cell_type": "code",
   "execution_count": 27,
   "metadata": {},
   "outputs": [
    {
     "name": "stderr",
     "output_type": "stream",
     "text": [
      "c:\\Users\\EzLaser\\anaconda3\\envs\\sohai\\lib\\site-packages\\torch\\_utils.py:776: UserWarning: TypedStorage is deprecated. It will be removed in the future and UntypedStorage will be the only storage class. This should only matter to you if you are using storages directly.  To access UntypedStorage directly, use tensor.untyped_storage() instead of tensor.storage()\n",
      "  return self.fget.__get__(instance, owner)()\n"
     ]
    }
   ],
   "source": [
    "lfqa_prompt = PromptTemplate(\n",
    "    name=\"lfqa\",\n",
    "    prompt_text=\"\"\"Synthesize a comprehensive answer from the following text for the given question. \n",
    "                             Provide a clear and concise response that summarizes the key points and information presented in the text. \n",
    "                             Your answer should be in your own words and be no longer than 50 words. \n",
    "                             \\n\\n Related text: {join(documents)} \\n\\n Question: {query} \\n\\n Answer:\"\"\",\n",
    ")\n",
    "\n",
    "prompt_node = PromptNode(\"google/flan-t5-large\", default_prompt_template=lfqa_prompt)"
   ]
  },
  {
   "attachments": {},
   "cell_type": "markdown",
   "metadata": {},
   "source": [
    "## Creating the Retriever-Generator Pipeline"
   ]
  },
  {
   "cell_type": "code",
   "execution_count": 28,
   "metadata": {},
   "outputs": [],
   "source": [
    "pipe = Pipeline()\n",
    "pipe.add_node(component=BM25_retriever, name=\"retriever\", inputs=[\"Query\"])\n",
    "pipe.add_node(component=prompt_node, name=\"prompt_node\", inputs=[\"retriever\"])"
   ]
  },
  {
   "attachments": {},
   "cell_type": "markdown",
   "metadata": {},
   "source": [
    "## Asking a question based on the data stored in the document store"
   ]
  },
  {
   "cell_type": "code",
   "execution_count": 29,
   "metadata": {},
   "outputs": [
    {
     "name": "stdout",
     "output_type": "stream",
     "text": [
      "Question: How is the service? \n",
      "\n",
      "Answer : ['The concierge will respond to your every request very promptly and eagerly.']\n",
      "\n",
      "\n",
      "\n"
     ]
    }
   ],
   "source": [
    "preds = pipe.run(query=query)\n",
    "print(f\"Question: {preds['query']} \\n\")\n",
    "print(f\"Answer : {preds['results']}\")\n",
    "print(\"\\n\\n\")"
   ]
  },
  {
   "cell_type": "code",
   "execution_count": 46,
   "metadata": {},
   "outputs": [
    {
     "name": "stdout",
     "output_type": "stream",
     "text": [
      "16\n"
     ]
    }
   ],
   "source": [
    "results = dfs[\"train\"].loc[dfs[\"train\"][\"question\"] == query]\n",
    "\n",
    "print(len(results))"
   ]
  },
  {
   "cell_type": "code",
   "execution_count": 47,
   "metadata": {},
   "outputs": [
    {
     "name": "stdout",
     "output_type": "stream",
     "text": [
      "174                                                [Horrible service, Horrible service]\n",
      "184                              [the service was fantastic, the service was fantastic]\n",
      "186                                               [fantastic, The service is fantastic]\n",
      "189                                        [the horrible service, the horrible service]\n",
      "190                                               [Service was impeccable and reliable]\n",
      "302     [had a very nice time here and would definitely stay here again on my next v...\n",
      "579                              [service was exceptional, The service was exceptional]\n",
      "596                                          [The service was bad, The service was bad]\n",
      "632        [room service was great and the food was so good, The service was excellent]\n",
      "681                         [the service was excellent, This was a real disappointment]\n",
      "686                  [The service and concierge were exceptional and went out of their]\n",
      "704                                                          [service to be impeccable]\n",
      "731                                                           [Service was outstanding]\n",
      "776     [for Service and the Best Luxury Hotel, This hotel is CONSISTENTLY GREAT in ...\n",
      "892                                          [the service was super, service was super]\n",
      "1084                               [great find. Nice value, The staff were so friendly]\n",
      "Name: answers.text, dtype: object\n",
      "174                                                [Horrible service, Horrible service]\n",
      "184                              [the service was fantastic, the service was fantastic]\n",
      "186                                               [fantastic, The service is fantastic]\n",
      "189                                        [the horrible service, the horrible service]\n",
      "190                                               [Service was impeccable and reliable]\n",
      "302     [had a very nice time here and would definitely stay here again on my next v...\n",
      "579                              [service was exceptional, The service was exceptional]\n",
      "596                                          [The service was bad, The service was bad]\n",
      "632        [room service was great and the food was so good, The service was excellent]\n",
      "681                         [the service was excellent, This was a real disappointment]\n",
      "686                  [The service and concierge were exceptional and went out of their]\n",
      "704                                                          [service to be impeccable]\n",
      "731                                                           [Service was outstanding]\n",
      "776     [for Service and the Best Luxury Hotel, This hotel is CONSISTENTLY GREAT in ...\n",
      "892                                          [the service was super, service was super]\n",
      "1084                               [great find. Nice value, The staff were so friendly]\n",
      "Name: answers.text, dtype: object\n",
      "174                                                [Horrible service, Horrible service]\n",
      "184                              [the service was fantastic, the service was fantastic]\n",
      "186                                               [fantastic, The service is fantastic]\n",
      "189                                        [the horrible service, the horrible service]\n",
      "190                                               [Service was impeccable and reliable]\n",
      "302     [had a very nice time here and would definitely stay here again on my next v...\n",
      "579                              [service was exceptional, The service was exceptional]\n",
      "596                                          [The service was bad, The service was bad]\n",
      "632        [room service was great and the food was so good, The service was excellent]\n",
      "681                         [the service was excellent, This was a real disappointment]\n",
      "686                  [The service and concierge were exceptional and went out of their]\n",
      "704                                                          [service to be impeccable]\n",
      "731                                                           [Service was outstanding]\n",
      "776     [for Service and the Best Luxury Hotel, This hotel is CONSISTENTLY GREAT in ...\n",
      "892                                          [the service was super, service was super]\n",
      "1084                               [great find. Nice value, The staff were so friendly]\n",
      "Name: answers.text, dtype: object\n",
      "174                                                [Horrible service, Horrible service]\n",
      "184                              [the service was fantastic, the service was fantastic]\n",
      "186                                               [fantastic, The service is fantastic]\n",
      "189                                        [the horrible service, the horrible service]\n",
      "190                                               [Service was impeccable and reliable]\n",
      "302     [had a very nice time here and would definitely stay here again on my next v...\n",
      "579                              [service was exceptional, The service was exceptional]\n",
      "596                                          [The service was bad, The service was bad]\n",
      "632        [room service was great and the food was so good, The service was excellent]\n",
      "681                         [the service was excellent, This was a real disappointment]\n",
      "686                  [The service and concierge were exceptional and went out of their]\n",
      "704                                                          [service to be impeccable]\n",
      "731                                                           [Service was outstanding]\n",
      "776     [for Service and the Best Luxury Hotel, This hotel is CONSISTENTLY GREAT in ...\n",
      "892                                          [the service was super, service was super]\n",
      "1084                               [great find. Nice value, The staff were so friendly]\n",
      "Name: answers.text, dtype: object\n",
      "174                                                [Horrible service, Horrible service]\n",
      "184                              [the service was fantastic, the service was fantastic]\n",
      "186                                               [fantastic, The service is fantastic]\n",
      "189                                        [the horrible service, the horrible service]\n",
      "190                                               [Service was impeccable and reliable]\n",
      "302     [had a very nice time here and would definitely stay here again on my next v...\n",
      "579                              [service was exceptional, The service was exceptional]\n",
      "596                                          [The service was bad, The service was bad]\n",
      "632        [room service was great and the food was so good, The service was excellent]\n",
      "681                         [the service was excellent, This was a real disappointment]\n",
      "686                  [The service and concierge were exceptional and went out of their]\n",
      "704                                                          [service to be impeccable]\n",
      "731                                                           [Service was outstanding]\n",
      "776     [for Service and the Best Luxury Hotel, This hotel is CONSISTENTLY GREAT in ...\n",
      "892                                          [the service was super, service was super]\n",
      "1084                               [great find. Nice value, The staff were so friendly]\n",
      "Name: answers.text, dtype: object\n",
      "174                                                [Horrible service, Horrible service]\n",
      "184                              [the service was fantastic, the service was fantastic]\n",
      "186                                               [fantastic, The service is fantastic]\n",
      "189                                        [the horrible service, the horrible service]\n",
      "190                                               [Service was impeccable and reliable]\n",
      "302     [had a very nice time here and would definitely stay here again on my next v...\n",
      "579                              [service was exceptional, The service was exceptional]\n",
      "596                                          [The service was bad, The service was bad]\n",
      "632        [room service was great and the food was so good, The service was excellent]\n",
      "681                         [the service was excellent, This was a real disappointment]\n",
      "686                  [The service and concierge were exceptional and went out of their]\n",
      "704                                                          [service to be impeccable]\n",
      "731                                                           [Service was outstanding]\n",
      "776     [for Service and the Best Luxury Hotel, This hotel is CONSISTENTLY GREAT in ...\n",
      "892                                          [the service was super, service was super]\n",
      "1084                               [great find. Nice value, The staff were so friendly]\n",
      "Name: answers.text, dtype: object\n",
      "174                                                [Horrible service, Horrible service]\n",
      "184                              [the service was fantastic, the service was fantastic]\n",
      "186                                               [fantastic, The service is fantastic]\n",
      "189                                        [the horrible service, the horrible service]\n",
      "190                                               [Service was impeccable and reliable]\n",
      "302     [had a very nice time here and would definitely stay here again on my next v...\n",
      "579                              [service was exceptional, The service was exceptional]\n",
      "596                                          [The service was bad, The service was bad]\n",
      "632        [room service was great and the food was so good, The service was excellent]\n",
      "681                         [the service was excellent, This was a real disappointment]\n",
      "686                  [The service and concierge were exceptional and went out of their]\n",
      "704                                                          [service to be impeccable]\n",
      "731                                                           [Service was outstanding]\n",
      "776     [for Service and the Best Luxury Hotel, This hotel is CONSISTENTLY GREAT in ...\n",
      "892                                          [the service was super, service was super]\n",
      "1084                               [great find. Nice value, The staff were so friendly]\n",
      "Name: answers.text, dtype: object\n",
      "174                                                [Horrible service, Horrible service]\n",
      "184                              [the service was fantastic, the service was fantastic]\n",
      "186                                               [fantastic, The service is fantastic]\n",
      "189                                        [the horrible service, the horrible service]\n",
      "190                                               [Service was impeccable and reliable]\n",
      "302     [had a very nice time here and would definitely stay here again on my next v...\n",
      "579                              [service was exceptional, The service was exceptional]\n",
      "596                                          [The service was bad, The service was bad]\n",
      "632        [room service was great and the food was so good, The service was excellent]\n",
      "681                         [the service was excellent, This was a real disappointment]\n",
      "686                  [The service and concierge were exceptional and went out of their]\n",
      "704                                                          [service to be impeccable]\n",
      "731                                                           [Service was outstanding]\n",
      "776     [for Service and the Best Luxury Hotel, This hotel is CONSISTENTLY GREAT in ...\n",
      "892                                          [the service was super, service was super]\n",
      "1084                               [great find. Nice value, The staff were so friendly]\n",
      "Name: answers.text, dtype: object\n",
      "174                                                [Horrible service, Horrible service]\n",
      "184                              [the service was fantastic, the service was fantastic]\n",
      "186                                               [fantastic, The service is fantastic]\n",
      "189                                        [the horrible service, the horrible service]\n",
      "190                                               [Service was impeccable and reliable]\n",
      "302     [had a very nice time here and would definitely stay here again on my next v...\n",
      "579                              [service was exceptional, The service was exceptional]\n",
      "596                                          [The service was bad, The service was bad]\n",
      "632        [room service was great and the food was so good, The service was excellent]\n",
      "681                         [the service was excellent, This was a real disappointment]\n",
      "686                  [The service and concierge were exceptional and went out of their]\n",
      "704                                                          [service to be impeccable]\n",
      "731                                                           [Service was outstanding]\n",
      "776     [for Service and the Best Luxury Hotel, This hotel is CONSISTENTLY GREAT in ...\n",
      "892                                          [the service was super, service was super]\n",
      "1084                               [great find. Nice value, The staff were so friendly]\n",
      "Name: answers.text, dtype: object\n",
      "174                                                [Horrible service, Horrible service]\n",
      "184                              [the service was fantastic, the service was fantastic]\n",
      "186                                               [fantastic, The service is fantastic]\n",
      "189                                        [the horrible service, the horrible service]\n",
      "190                                               [Service was impeccable and reliable]\n",
      "302     [had a very nice time here and would definitely stay here again on my next v...\n",
      "579                              [service was exceptional, The service was exceptional]\n",
      "596                                          [The service was bad, The service was bad]\n",
      "632        [room service was great and the food was so good, The service was excellent]\n",
      "681                         [the service was excellent, This was a real disappointment]\n",
      "686                  [The service and concierge were exceptional and went out of their]\n",
      "704                                                          [service to be impeccable]\n",
      "731                                                           [Service was outstanding]\n",
      "776     [for Service and the Best Luxury Hotel, This hotel is CONSISTENTLY GREAT in ...\n",
      "892                                          [the service was super, service was super]\n",
      "1084                               [great find. Nice value, The staff were so friendly]\n",
      "Name: answers.text, dtype: object\n",
      "174                                                [Horrible service, Horrible service]\n",
      "184                              [the service was fantastic, the service was fantastic]\n",
      "186                                               [fantastic, The service is fantastic]\n",
      "189                                        [the horrible service, the horrible service]\n",
      "190                                               [Service was impeccable and reliable]\n",
      "302     [had a very nice time here and would definitely stay here again on my next v...\n",
      "579                              [service was exceptional, The service was exceptional]\n",
      "596                                          [The service was bad, The service was bad]\n",
      "632        [room service was great and the food was so good, The service was excellent]\n",
      "681                         [the service was excellent, This was a real disappointment]\n",
      "686                  [The service and concierge were exceptional and went out of their]\n",
      "704                                                          [service to be impeccable]\n",
      "731                                                           [Service was outstanding]\n",
      "776     [for Service and the Best Luxury Hotel, This hotel is CONSISTENTLY GREAT in ...\n",
      "892                                          [the service was super, service was super]\n",
      "1084                               [great find. Nice value, The staff were so friendly]\n",
      "Name: answers.text, dtype: object\n",
      "174                                                [Horrible service, Horrible service]\n",
      "184                              [the service was fantastic, the service was fantastic]\n",
      "186                                               [fantastic, The service is fantastic]\n",
      "189                                        [the horrible service, the horrible service]\n",
      "190                                               [Service was impeccable and reliable]\n",
      "302     [had a very nice time here and would definitely stay here again on my next v...\n",
      "579                              [service was exceptional, The service was exceptional]\n",
      "596                                          [The service was bad, The service was bad]\n",
      "632        [room service was great and the food was so good, The service was excellent]\n",
      "681                         [the service was excellent, This was a real disappointment]\n",
      "686                  [The service and concierge were exceptional and went out of their]\n",
      "704                                                          [service to be impeccable]\n",
      "731                                                           [Service was outstanding]\n",
      "776     [for Service and the Best Luxury Hotel, This hotel is CONSISTENTLY GREAT in ...\n",
      "892                                          [the service was super, service was super]\n",
      "1084                               [great find. Nice value, The staff were so friendly]\n",
      "Name: answers.text, dtype: object\n",
      "174                                                [Horrible service, Horrible service]\n",
      "184                              [the service was fantastic, the service was fantastic]\n",
      "186                                               [fantastic, The service is fantastic]\n",
      "189                                        [the horrible service, the horrible service]\n",
      "190                                               [Service was impeccable and reliable]\n",
      "302     [had a very nice time here and would definitely stay here again on my next v...\n",
      "579                              [service was exceptional, The service was exceptional]\n",
      "596                                          [The service was bad, The service was bad]\n",
      "632        [room service was great and the food was so good, The service was excellent]\n",
      "681                         [the service was excellent, This was a real disappointment]\n",
      "686                  [The service and concierge were exceptional and went out of their]\n",
      "704                                                          [service to be impeccable]\n",
      "731                                                           [Service was outstanding]\n",
      "776     [for Service and the Best Luxury Hotel, This hotel is CONSISTENTLY GREAT in ...\n",
      "892                                          [the service was super, service was super]\n",
      "1084                               [great find. Nice value, The staff were so friendly]\n",
      "Name: answers.text, dtype: object\n",
      "174                                                [Horrible service, Horrible service]\n",
      "184                              [the service was fantastic, the service was fantastic]\n",
      "186                                               [fantastic, The service is fantastic]\n",
      "189                                        [the horrible service, the horrible service]\n",
      "190                                               [Service was impeccable and reliable]\n",
      "302     [had a very nice time here and would definitely stay here again on my next v...\n",
      "579                              [service was exceptional, The service was exceptional]\n",
      "596                                          [The service was bad, The service was bad]\n",
      "632        [room service was great and the food was so good, The service was excellent]\n",
      "681                         [the service was excellent, This was a real disappointment]\n",
      "686                  [The service and concierge were exceptional and went out of their]\n",
      "704                                                          [service to be impeccable]\n",
      "731                                                           [Service was outstanding]\n",
      "776     [for Service and the Best Luxury Hotel, This hotel is CONSISTENTLY GREAT in ...\n",
      "892                                          [the service was super, service was super]\n",
      "1084                               [great find. Nice value, The staff were so friendly]\n",
      "Name: answers.text, dtype: object\n",
      "174                                                [Horrible service, Horrible service]\n",
      "184                              [the service was fantastic, the service was fantastic]\n",
      "186                                               [fantastic, The service is fantastic]\n",
      "189                                        [the horrible service, the horrible service]\n",
      "190                                               [Service was impeccable and reliable]\n",
      "302     [had a very nice time here and would definitely stay here again on my next v...\n",
      "579                              [service was exceptional, The service was exceptional]\n",
      "596                                          [The service was bad, The service was bad]\n",
      "632        [room service was great and the food was so good, The service was excellent]\n",
      "681                         [the service was excellent, This was a real disappointment]\n",
      "686                  [The service and concierge were exceptional and went out of their]\n",
      "704                                                          [service to be impeccable]\n",
      "731                                                           [Service was outstanding]\n",
      "776     [for Service and the Best Luxury Hotel, This hotel is CONSISTENTLY GREAT in ...\n",
      "892                                          [the service was super, service was super]\n",
      "1084                               [great find. Nice value, The staff were so friendly]\n",
      "Name: answers.text, dtype: object\n",
      "174                                                [Horrible service, Horrible service]\n",
      "184                              [the service was fantastic, the service was fantastic]\n",
      "186                                               [fantastic, The service is fantastic]\n",
      "189                                        [the horrible service, the horrible service]\n",
      "190                                               [Service was impeccable and reliable]\n",
      "302     [had a very nice time here and would definitely stay here again on my next v...\n",
      "579                              [service was exceptional, The service was exceptional]\n",
      "596                                          [The service was bad, The service was bad]\n",
      "632        [room service was great and the food was so good, The service was excellent]\n",
      "681                         [the service was excellent, This was a real disappointment]\n",
      "686                  [The service and concierge were exceptional and went out of their]\n",
      "704                                                          [service to be impeccable]\n",
      "731                                                           [Service was outstanding]\n",
      "776     [for Service and the Best Luxury Hotel, This hotel is CONSISTENTLY GREAT in ...\n",
      "892                                          [the service was super, service was super]\n",
      "1084                               [great find. Nice value, The staff were so friendly]\n",
      "Name: answers.text, dtype: object\n",
      "174                                                [Horrible service, Horrible service]\n",
      "184                              [the service was fantastic, the service was fantastic]\n",
      "186                                               [fantastic, The service is fantastic]\n",
      "189                                        [the horrible service, the horrible service]\n",
      "190                                               [Service was impeccable and reliable]\n",
      "302     [had a very nice time here and would definitely stay here again on my next v...\n",
      "579                              [service was exceptional, The service was exceptional]\n",
      "596                                          [The service was bad, The service was bad]\n",
      "632        [room service was great and the food was so good, The service was excellent]\n",
      "681                         [the service was excellent, This was a real disappointment]\n",
      "686                  [The service and concierge were exceptional and went out of their]\n",
      "704                                                          [service to be impeccable]\n",
      "731                                                           [Service was outstanding]\n",
      "776     [for Service and the Best Luxury Hotel, This hotel is CONSISTENTLY GREAT in ...\n",
      "892                                          [the service was super, service was super]\n",
      "1084                               [great find. Nice value, The staff were so friendly]\n",
      "Name: answers.text, dtype: object\n",
      "174                                                [Horrible service, Horrible service]\n",
      "184                              [the service was fantastic, the service was fantastic]\n",
      "186                                               [fantastic, The service is fantastic]\n",
      "189                                        [the horrible service, the horrible service]\n",
      "190                                               [Service was impeccable and reliable]\n",
      "302     [had a very nice time here and would definitely stay here again on my next v...\n",
      "579                              [service was exceptional, The service was exceptional]\n",
      "596                                          [The service was bad, The service was bad]\n",
      "632        [room service was great and the food was so good, The service was excellent]\n",
      "681                         [the service was excellent, This was a real disappointment]\n",
      "686                  [The service and concierge were exceptional and went out of their]\n",
      "704                                                          [service to be impeccable]\n",
      "731                                                           [Service was outstanding]\n",
      "776     [for Service and the Best Luxury Hotel, This hotel is CONSISTENTLY GREAT in ...\n",
      "892                                          [the service was super, service was super]\n",
      "1084                               [great find. Nice value, The staff were so friendly]\n",
      "Name: answers.text, dtype: object\n",
      "174                                                [Horrible service, Horrible service]\n",
      "184                              [the service was fantastic, the service was fantastic]\n",
      "186                                               [fantastic, The service is fantastic]\n",
      "189                                        [the horrible service, the horrible service]\n",
      "190                                               [Service was impeccable and reliable]\n",
      "302     [had a very nice time here and would definitely stay here again on my next v...\n",
      "579                              [service was exceptional, The service was exceptional]\n",
      "596                                          [The service was bad, The service was bad]\n",
      "632        [room service was great and the food was so good, The service was excellent]\n",
      "681                         [the service was excellent, This was a real disappointment]\n",
      "686                  [The service and concierge were exceptional and went out of their]\n",
      "704                                                          [service to be impeccable]\n",
      "731                                                           [Service was outstanding]\n",
      "776     [for Service and the Best Luxury Hotel, This hotel is CONSISTENTLY GREAT in ...\n",
      "892                                          [the service was super, service was super]\n",
      "1084                               [great find. Nice value, The staff were so friendly]\n",
      "Name: answers.text, dtype: object\n"
     ]
    }
   ],
   "source": [
    "for i in results:\n",
    "    print(results[\"answers.text\"])"
   ]
  },
  {
   "cell_type": "code",
   "execution_count": 61,
   "metadata": {},
   "outputs": [
    {
     "name": "stdout",
     "output_type": "stream",
     "text": [
      "Question: How is the service? \n",
      "\n",
      "Answer : ['The concierge will respond to your every request very promptly and eagerly.']\n",
      "\n",
      "\n",
      "Horrible service  =  False\n",
      "the service was fantastic  =  False\n",
      "fantastic  =  False\n",
      "the horrible service  =  False\n",
      "Service was impeccable and reliable  =  False\n",
      "had a very nice time here and would definitely stay here again on my next visit  =  False\n",
      "service was exceptional  =  False\n",
      "The service was bad  =  False\n",
      "room service was great and the food was so good  =  False\n",
      "the service was excellent  =  False\n",
      "The service and concierge were exceptional and went out of their  =  False\n",
      "service to be impeccable  =  False\n",
      "Service was outstanding  =  False\n",
      "for Service and the Best Luxury Hotel  =  False\n",
      "the service was super  =  False\n",
      "great find. Nice value  =  False\n"
     ]
    }
   ],
   "source": [
    "print(f\"Question: {preds['query']} \\n\")\n",
    "print(f\"Answer : {preds['results']}\")\n",
    "print(\"\\n\")\n",
    "\n",
    "for index, rows in results.iterrows():\n",
    "    print(rows[\"answers.text\"][0], \" = \" , False if rows[\"answers.text\"][0] != preds['results'][0] else True)"
   ]
  }
 ],
 "metadata": {
  "kernelspec": {
   "display_name": "open-cv",
   "language": "python",
   "name": "python3"
  },
  "language_info": {
   "codemirror_mode": {
    "name": "ipython",
    "version": 3
   },
   "file_extension": ".py",
   "mimetype": "text/x-python",
   "name": "python",
   "nbconvert_exporter": "python",
   "pygments_lexer": "ipython3",
   "version": "3.10.4"
  },
  "orig_nbformat": 4,
  "vscode": {
   "interpreter": {
    "hash": "b6dd8a3aa55595afb339accb74859655ea5ff8766e9efa9e2217bb372f2e0eab"
   }
  }
 },
 "nbformat": 4,
 "nbformat_minor": 2
}
